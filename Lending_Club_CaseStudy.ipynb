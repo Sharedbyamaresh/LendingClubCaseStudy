{
 "cells": [
  {
   "cell_type": "markdown",
   "id": "3c763ff2",
   "metadata": {},
   "source": [
    "# Objective of this python file is to complete the EDA analysis for a lending club, identifying strong factors for predicting a defaulter"
   ]
  },
  {
   "cell_type": "markdown",
   "id": "21a718e1",
   "metadata": {},
   "source": []
  },
  {
   "cell_type": "markdown",
   "id": "65185504",
   "metadata": {},
   "source": [
    "###### int_rate_float\n",
    "###### Emp_Len_Encoded  : Eploy_len  <1 yrs =0, 10+yrs =11 and droping years string.\n",
    "###### revol_util_float"
   ]
  },
  {
   "cell_type": "code",
   "execution_count": 1,
   "id": "d7053d38",
   "metadata": {},
   "outputs": [],
   "source": [
    "# include all the required librabrires\n",
    "import numpy as np\n",
    "import pandas as pd\n",
    "from scipy.stats import skew,kurtosis\n",
    "\n",
    "from matplotlib import pyplot as plt\n",
    "import seaborn as sns\n",
    "\n",
    "pd.options.display.max_rows = 999\n"
   ]
  },
  {
   "cell_type": "markdown",
   "id": "80a1ca7d",
   "metadata": {},
   "source": [
    "### Custom Function Defination"
   ]
  },
  {
   "cell_type": "code",
   "execution_count": 2,
   "id": "9281aec2",
   "metadata": {},
   "outputs": [],
   "source": [
    "# A function to remove the % sign from \n",
    "def remove_percetange_symbol(x):\n",
    "    x=str(x)\n",
    "    if(x=='nan'):\n",
    "        return 'NAN'\n",
    "    l=len(str(x))\n",
    "    return float(x[0:l-1])"
   ]
  },
  {
   "cell_type": "code",
   "execution_count": 3,
   "id": "2affffe6",
   "metadata": {},
   "outputs": [],
   "source": [
    "# function to remove years and encode <1years as 0 and 10+ years as 11\n",
    "def encode_and_remove_years(x):\n",
    "    x=str(x)\n",
    "    #remove years or year string\n",
    "    spt=x.split(' ')\n",
    "#     print(spt)\n",
    "    if(len(spt)==2):\n",
    "        temp=spt[0]\n",
    "    elif(len(spt)==1):\n",
    "        return 'NAN'\n",
    "    elif (spt[0]=='<'):\n",
    "#         print('less')\n",
    "        return int(0)\n",
    "    else:\n",
    "        temp=spt[1]\n",
    "    \n",
    "    if(temp[len(temp)-1]=='+'):\n",
    "        return int(temp[0:(len(temp)-1)])\n",
    "    else:\n",
    "        return int(temp)\n",
    "    "
   ]
  },
  {
   "cell_type": "code",
   "execution_count": 4,
   "id": "9f0596a2",
   "metadata": {},
   "outputs": [],
   "source": [
    "# This function is used to categories the funded amount invested into 6 categories.\n",
    "# six categories are given a code under a column as \"Cat_fund_inv\" in cleaned data\n",
    "# 0 to 4999 : 1\n",
    "# 5000 to 9999 : 2\n",
    "# 10000 to 14999 : 3\n",
    "# 15000 to 19999 : 4\n",
    "# 20000 to 24999 : 5\n",
    "# 25000 and more : 6\n",
    "def cat_funded_amnt_inv(x):\n",
    "    if(x<5000):\n",
    "        return 1\n",
    "    elif(x>=5000 and x<10000):\n",
    "        return 2\n",
    "    elif(x>=10000 and x<15000):\n",
    "        return 3\n",
    "    elif(x>=15000 and x<20000):\n",
    "        return 4\n",
    "    elif(x>=20000 and x<25000):\n",
    "        return 5\n",
    "    else:\n",
    "        return 6"
   ]
  },
  {
   "cell_type": "code",
   "execution_count": 5,
   "id": "94d34536",
   "metadata": {},
   "outputs": [],
   "source": [
    "# This function is used to categories the funded amount invested into 6 categories.\n",
    "# six categories are given a code under a column as \"Cat_fund_inv\" in cleaned data\n",
    "# 5 to 6.99 : 1\n",
    "# 7 to 8.99 : 2\n",
    "# 9 to 10.99 : 3\n",
    "# 11 to 12.99 : 4\n",
    "# 13 to 14.99 : 5\n",
    "# 15 to 16.99 : 6\n",
    "# 17 to 18.99 : 7\n",
    "# 19 to 20.99 : 8\n",
    "# 21 and 22.99 : 9\n",
    "# 23 and more : 10\n",
    "\n",
    "\n",
    "def Func_cat_int_rate_float(x):\n",
    "    if(x<5):\n",
    "        return 1\n",
    "    elif(x>=5 and x< 6.99):\n",
    "        return 2\n",
    "    elif(x>=7 and x<8.99):\n",
    "        return 3\n",
    "    elif(x>=9 and x<10.99):\n",
    "        return 4\n",
    "    elif(x>=11 and x<12.99):\n",
    "        return 5\n",
    "    elif(x>=13 and x<14.99):\n",
    "        return 6\n",
    "    elif(x>=15 and x<16.99):\n",
    "        return 7\n",
    "    elif(x>=17 and x<18.99):\n",
    "        return 8\n",
    "    elif(x>=19 and x<20.99):\n",
    "        return 9\n",
    "    elif(x>=21 and x<22.99):\n",
    "        return 10\n",
    "    else:\n",
    "        return 11"
   ]
  },
  {
   "cell_type": "code",
   "execution_count": 6,
   "id": "8a680e23",
   "metadata": {},
   "outputs": [],
   "source": [
    " # This function is used for removinh % sign and also categories the continuous percentage data into 10 category, 0 to 9.\n",
    "def Func_process_revol_util(x):\n",
    "    x=str(x)\n",
    "    var=x[0:len(x)-2]\n",
    "    \n",
    "    return (temp)\n",
    "\n",
    "\n",
    "\n",
    "    "
   ]
  },
  {
   "cell_type": "code",
   "execution_count": null,
   "id": "6a5d94c0",
   "metadata": {},
   "outputs": [],
   "source": [
    "\n"
   ]
  },
  {
   "cell_type": "code",
   "execution_count": 7,
   "id": "bc180b48",
   "metadata": {},
   "outputs": [
    {
     "name": "stdout",
     "output_type": "stream",
     "text": [
      "raw_col = 111\n",
      "raw_raw = 39717\n",
      "                 id     member_id     loan_amnt   funded_amnt  \\\n",
      "count  3.971700e+04  3.971700e+04  39717.000000  39717.000000   \n",
      "mean   6.831319e+05  8.504636e+05  11219.443815  10947.713196   \n",
      "std    2.106941e+05  2.656783e+05   7456.670694   7187.238670   \n",
      "min    5.473400e+04  7.069900e+04    500.000000    500.000000   \n",
      "25%    5.162210e+05  6.667800e+05   5500.000000   5400.000000   \n",
      "50%    6.656650e+05  8.508120e+05  10000.000000   9600.000000   \n",
      "75%    8.377550e+05  1.047339e+06  15000.000000  15000.000000   \n",
      "max    1.077501e+06  1.314167e+06  35000.000000  35000.000000   \n",
      "\n",
      "       funded_amnt_inv   installment    annual_inc           dti  \\\n",
      "count     39717.000000  39717.000000  3.971700e+04  39717.000000   \n",
      "mean      10397.448868    324.561922  6.896893e+04     13.315130   \n",
      "std        7128.450439    208.874874  6.379377e+04      6.678594   \n",
      "min           0.000000     15.690000  4.000000e+03      0.000000   \n",
      "25%        5000.000000    167.020000  4.040400e+04      8.170000   \n",
      "50%        8975.000000    280.220000  5.900000e+04     13.400000   \n",
      "75%       14400.000000    430.780000  8.230000e+04     18.600000   \n",
      "max       35000.000000   1305.190000  6.000000e+06     29.990000   \n",
      "\n",
      "        delinq_2yrs  inq_last_6mths  ...  num_tl_90g_dpd_24m  \\\n",
      "count  39717.000000    39717.000000  ...                 0.0   \n",
      "mean       0.146512        0.869200  ...                 NaN   \n",
      "std        0.491812        1.070219  ...                 NaN   \n",
      "min        0.000000        0.000000  ...                 NaN   \n",
      "25%        0.000000        0.000000  ...                 NaN   \n",
      "50%        0.000000        1.000000  ...                 NaN   \n",
      "75%        0.000000        1.000000  ...                 NaN   \n",
      "max       11.000000        8.000000  ...                 NaN   \n",
      "\n",
      "       num_tl_op_past_12m  pct_tl_nvr_dlq  percent_bc_gt_75  \\\n",
      "count                 0.0             0.0               0.0   \n",
      "mean                  NaN             NaN               NaN   \n",
      "std                   NaN             NaN               NaN   \n",
      "min                   NaN             NaN               NaN   \n",
      "25%                   NaN             NaN               NaN   \n",
      "50%                   NaN             NaN               NaN   \n",
      "75%                   NaN             NaN               NaN   \n",
      "max                   NaN             NaN               NaN   \n",
      "\n",
      "       pub_rec_bankruptcies  tax_liens  tot_hi_cred_lim  total_bal_ex_mort  \\\n",
      "count          39020.000000    39678.0              0.0                0.0   \n",
      "mean               0.043260        0.0              NaN                NaN   \n",
      "std                0.204324        0.0              NaN                NaN   \n",
      "min                0.000000        0.0              NaN                NaN   \n",
      "25%                0.000000        0.0              NaN                NaN   \n",
      "50%                0.000000        0.0              NaN                NaN   \n",
      "75%                0.000000        0.0              NaN                NaN   \n",
      "max                2.000000        0.0              NaN                NaN   \n",
      "\n",
      "       total_bc_limit  total_il_high_credit_limit  \n",
      "count             0.0                         0.0  \n",
      "mean              NaN                         NaN  \n",
      "std               NaN                         NaN  \n",
      "min               NaN                         NaN  \n",
      "25%               NaN                         NaN  \n",
      "50%               NaN                         NaN  \n",
      "75%               NaN                         NaN  \n",
      "max               NaN                         NaN  \n",
      "\n",
      "[8 rows x 87 columns]\n",
      "(39717, 111)\n",
      "id                                  int64\n",
      "member_id                           int64\n",
      "loan_amnt                           int64\n",
      "funded_amnt                         int64\n",
      "funded_amnt_inv                   float64\n",
      "term                               object\n",
      "int_rate                           object\n",
      "installment                       float64\n",
      "grade                              object\n",
      "sub_grade                          object\n",
      "emp_title                          object\n",
      "emp_length                         object\n",
      "home_ownership                     object\n",
      "annual_inc                        float64\n",
      "verification_status                object\n",
      "issue_d                            object\n",
      "loan_status                        object\n",
      "pymnt_plan                         object\n",
      "url                                object\n",
      "desc                               object\n",
      "purpose                            object\n",
      "title                              object\n",
      "zip_code                           object\n",
      "addr_state                         object\n",
      "dti                               float64\n",
      "delinq_2yrs                         int64\n",
      "earliest_cr_line                   object\n",
      "inq_last_6mths                      int64\n",
      "mths_since_last_delinq            float64\n",
      "mths_since_last_record            float64\n",
      "open_acc                            int64\n",
      "pub_rec                             int64\n",
      "revol_bal                           int64\n",
      "revol_util                         object\n",
      "total_acc                           int64\n",
      "initial_list_status                object\n",
      "out_prncp                         float64\n",
      "out_prncp_inv                     float64\n",
      "total_pymnt                       float64\n",
      "total_pymnt_inv                   float64\n",
      "total_rec_prncp                   float64\n",
      "total_rec_int                     float64\n",
      "total_rec_late_fee                float64\n",
      "recoveries                        float64\n",
      "collection_recovery_fee           float64\n",
      "last_pymnt_d                       object\n",
      "last_pymnt_amnt                   float64\n",
      "next_pymnt_d                       object\n",
      "last_credit_pull_d                 object\n",
      "collections_12_mths_ex_med        float64\n",
      "mths_since_last_major_derog       float64\n",
      "policy_code                         int64\n",
      "application_type                   object\n",
      "annual_inc_joint                  float64\n",
      "dti_joint                         float64\n",
      "verification_status_joint         float64\n",
      "acc_now_delinq                      int64\n",
      "tot_coll_amt                      float64\n",
      "tot_cur_bal                       float64\n",
      "open_acc_6m                       float64\n",
      "open_il_6m                        float64\n",
      "open_il_12m                       float64\n",
      "open_il_24m                       float64\n",
      "mths_since_rcnt_il                float64\n",
      "total_bal_il                      float64\n",
      "il_util                           float64\n",
      "open_rv_12m                       float64\n",
      "open_rv_24m                       float64\n",
      "max_bal_bc                        float64\n",
      "all_util                          float64\n",
      "total_rev_hi_lim                  float64\n",
      "inq_fi                            float64\n",
      "total_cu_tl                       float64\n",
      "inq_last_12m                      float64\n",
      "acc_open_past_24mths              float64\n",
      "avg_cur_bal                       float64\n",
      "bc_open_to_buy                    float64\n",
      "bc_util                           float64\n",
      "chargeoff_within_12_mths          float64\n",
      "delinq_amnt                         int64\n",
      "mo_sin_old_il_acct                float64\n",
      "mo_sin_old_rev_tl_op              float64\n",
      "mo_sin_rcnt_rev_tl_op             float64\n",
      "mo_sin_rcnt_tl                    float64\n",
      "mort_acc                          float64\n",
      "mths_since_recent_bc              float64\n",
      "mths_since_recent_bc_dlq          float64\n",
      "mths_since_recent_inq             float64\n",
      "mths_since_recent_revol_delinq    float64\n",
      "num_accts_ever_120_pd             float64\n",
      "num_actv_bc_tl                    float64\n",
      "num_actv_rev_tl                   float64\n",
      "num_bc_sats                       float64\n",
      "num_bc_tl                         float64\n",
      "num_il_tl                         float64\n",
      "num_op_rev_tl                     float64\n",
      "num_rev_accts                     float64\n",
      "num_rev_tl_bal_gt_0               float64\n",
      "num_sats                          float64\n",
      "num_tl_120dpd_2m                  float64\n",
      "num_tl_30dpd                      float64\n",
      "num_tl_90g_dpd_24m                float64\n",
      "num_tl_op_past_12m                float64\n",
      "pct_tl_nvr_dlq                    float64\n",
      "percent_bc_gt_75                  float64\n",
      "pub_rec_bankruptcies              float64\n",
      "tax_liens                         float64\n",
      "tot_hi_cred_lim                   float64\n",
      "total_bal_ex_mort                 float64\n",
      "total_bc_limit                    float64\n",
      "total_il_high_credit_limit        float64\n",
      "dtype: object\n",
      "Size of Data sets: (39717, 111)\n"
     ]
    }
   ],
   "source": [
    "#import the csv file as panda dataframe data strucure  and get the size\n",
    "raw_data = pd.read_csv('loan.csv',header=0,low_memory=False)    # raw_data contains the csv file data in dataframe objejt. Low_memory set as false as data in file is of mixed type.Specify row 0 as header for DataFrame\n",
    "raw_data_size=raw_data.shape\n",
    "raw_data_col=raw_data_size[1]\n",
    "raw_data_row=raw_data_size[0]\n",
    "print('raw_col = '  + str(raw_data_col))\n",
    "print('raw_raw = ' + str(raw_data_row))\n",
    "print(raw_data.describe())\n",
    "print(raw_data.shape)\n",
    "print(raw_data.dtypes)\n",
    "print(f'Size of Data sets: {raw_data.shape}' )"
   ]
  },
  {
   "cell_type": "markdown",
   "id": "2099aaa3",
   "metadata": {},
   "source": [
    "###### From the above analysis,the column 'pub_rec_bankruptcies' has less value and may have uncommon type that needs to evaluated\n",
    "###### Also columns like int_rate, term,emp_length etc has object type which indicates these columns has multiple data type entries and  to be converted into a proper type/processed type of column of simillar data type"
   ]
  },
  {
   "cell_type": "markdown",
   "id": "b6b5584c",
   "metadata": {},
   "source": [
    "## Data Cleaning Processing --- see if you can use mode to verify all are zeros and automate it"
   ]
  },
  {
   "cell_type": "code",
   "execution_count": 8,
   "id": "478be5bc",
   "metadata": {},
   "outputs": [],
   "source": [
    "# from initial inspection of data in excel it is found that few columns are not required for the analysis as they are reduntant,have same equal values or filled with NA which doesn't give any new information.\n",
    "#creating a list Drop_Col_Names that holds all the column name that are to be dropeed\n",
    "Drop_Col_Names=[]\n",
    "# member ID and ID are not required for the analsis so those columns are being dropped \n",
    "Drop_Col_Names.append('id')\n",
    "Drop_Col_Names.append('member_id')\n",
    "#pymnt plan col too is reduntant as the only value it contains is 'n'. SO added to the list of column that to be removed from dataframe\n",
    "Drop_Col_Names.append('pymnt_plan')\n",
    "#url column too is reduntant as the only value it contains is url and ID. SO added to the list of column that to be removed from dataframe\n",
    "Drop_Col_Names.append('url')\n",
    "# initial_list_status column also seems to be reduntant as the only value that this column has is 'f'. So added to list for droping this column\n",
    "Drop_Col_Names.append('initial_list_status')\n",
    "#collections_12_mths_ex_med column too is reduntant as the only value it contains is 0 or NA. SO added to the list of column that to be removed from dataframe\n",
    "Drop_Col_Names.append('collections_12_mths_ex_med')\n",
    "#mths_since_last_major_derog column too is reduntant as the only value it contains is NA. SO added to the list of column that to be removed from dataframe\n",
    "Drop_Col_Names.append('mths_since_last_major_derog')\n",
    "#policy_code column too is reduntant as the only value it contains is 1. SO added to the list of column that to be removed from dataframe\n",
    "Drop_Col_Names.append('policy_code')\n",
    "#application_type column too is reduntant as the only value it contains is Individual. SO added to the list of column that to be removed from dataframe\n",
    "Drop_Col_Names.append('application_type')\n",
    "#annual_inc_joint column too is reduntant as the only value it contains is NA. SO added to the list of column that to be removed from dataframe\n",
    "Drop_Col_Names.append('annual_inc_joint')\n",
    "#dti_joint column too is reduntant as the only value it contains is NA. SO added to the list of column that to be removed from dataframe\n",
    "Drop_Col_Names.append('dti_joint')\n",
    "#verification_status_joint column too is reduntant as the only value it contains is NA. SO added to the list of column that to be removed from dataframe\n",
    "Drop_Col_Names.append('verification_status_joint')\n",
    "#acc_now_delinq column too is reduntant as the only value it contains is 0. SO added to the list of column that to be removed from dataframe\n",
    "Drop_Col_Names.append('acc_now_delinq')\n",
    "#tot_coll_amt column too is reduntant as the only value it contains is NA. SO added to the list of column that to be removed from dataframe\n",
    "Drop_Col_Names.append('tot_coll_amt')\n",
    "#tot_cur_bal column too is reduntant as the only value it contains is NA. SO added to the list of column that to be removed from dataframe\n",
    "Drop_Col_Names.append('tot_cur_bal')\n",
    "#open_acc_6m column too is reduntant as the only value it contains is NA. SO added to the list of column that to be removed from dataframe\n",
    "Drop_Col_Names.append('open_acc_6m')\n",
    "#open_il_6m column too is reduntant as the only value it contains is NA. SO added to the list of column that to be removed from dataframe\n",
    "Drop_Col_Names.append('open_il_6m')\n",
    "#open_il_12m column too is reduntant as the only value it contains is NA. SO added to the list of column that to be removed from dataframe\n",
    "Drop_Col_Names.append('open_il_12m')\n",
    "#open_il_24m column too is reduntant as the only value it contains is NA and ID. SO added to the list of column that to be removed from dataframe\n",
    "Drop_Col_Names.append('open_il_24m')\n",
    "#url column too is reduntant as the only value it contains is NA. SO added to the list of column that to be removed from dataframe\n",
    "Drop_Col_Names.append('mths_since_rcnt_il')\n",
    "#url column too is reduntant as the only value it contains is url and ID. SO added to the list of column that to be removed from dataframe\n",
    "Drop_Col_Names.append('total_bal_il')\n",
    "Drop_Col_Names.append('il_util')\n",
    "Drop_Col_Names.append('open_rv_12m') \n",
    "Drop_Col_Names.append('open_rv_24m')\n",
    "Drop_Col_Names.append('max_bal_bc')\n",
    "Drop_Col_Names.append('all_util')\n",
    "Drop_Col_Names.append('total_rev_hi_lim')\n",
    "Drop_Col_Names.append('inq_fi')\n",
    "Drop_Col_Names.append('total_cu_tl')\n",
    "Drop_Col_Names.append('inq_last_12m')\n",
    "Drop_Col_Names.append('acc_open_past_24mths')\n",
    "Drop_Col_Names.append('avg_cur_bal')\n",
    "Drop_Col_Names.append('bc_open_to_buy')\n",
    "Drop_Col_Names.append('bc_util')\n",
    "Drop_Col_Names.append('chargeoff_within_12_mths')\n",
    "Drop_Col_Names.append('delinq_amnt')\n",
    "Drop_Col_Names.append('mo_sin_old_il_acct')\n",
    "Drop_Col_Names.append('mo_sin_old_rev_tl_op')\n",
    "Drop_Col_Names.append('mo_sin_rcnt_rev_tl_op')\n",
    "Drop_Col_Names.append('mo_sin_rcnt_tl')\n",
    "Drop_Col_Names.append('mort_acc')\n",
    "Drop_Col_Names.append('mths_since_recent_bc')\n",
    "Drop_Col_Names.append('mths_since_recent_bc_dlq')\n",
    "Drop_Col_Names.append('mths_since_recent_inq')\n",
    "Drop_Col_Names.append('mths_since_recent_revol_delinq')\n",
    "Drop_Col_Names.append('num_accts_ever_120_pd')\n",
    "Drop_Col_Names.append('num_actv_bc_tl')\n",
    "Drop_Col_Names.append('num_actv_rev_tl')\n",
    "Drop_Col_Names.append('num_bc_sats')\n",
    "Drop_Col_Names.append('num_bc_tl')\n",
    "Drop_Col_Names.append('num_il_tl')\n",
    "Drop_Col_Names.append('num_op_rev_tl')\n",
    "Drop_Col_Names.append('num_rev_accts')\n",
    "Drop_Col_Names.append('num_rev_tl_bal_gt_0')\n",
    "Drop_Col_Names.append('num_sats')\n",
    "Drop_Col_Names.append('num_tl_120dpd_2m')\n",
    "Drop_Col_Names.append('num_tl_30dpd')\n",
    "Drop_Col_Names.append('num_tl_90g_dpd_24m')\n",
    "Drop_Col_Names.append('num_tl_op_past_12m')\n",
    "Drop_Col_Names.append('pct_tl_nvr_dlq')\n",
    "Drop_Col_Names.append('percent_bc_gt_75')\n",
    "Drop_Col_Names.append('tax_liens')\n",
    "Drop_Col_Names.append('tot_hi_cred_lim')\n",
    "Drop_Col_Names.append('total_bal_ex_mort')\n",
    "Drop_Col_Names.append('total_bc_limit')\n",
    "Drop_Col_Names.append('total_il_high_credit_limit')\n"
   ]
  },
  {
   "cell_type": "code",
   "execution_count": 9,
   "id": "d6da0029",
   "metadata": {},
   "outputs": [],
   "source": [
    "#removing these columns from the existing data\n",
    "Cleaned_data=raw_data.drop(Drop_Col_Names,axis=1,inplace=False)"
   ]
  },
  {
   "cell_type": "code",
   "execution_count": 10,
   "id": "9897a46e",
   "metadata": {},
   "outputs": [
    {
     "name": "stdout",
     "output_type": "stream",
     "text": [
      "All Data Entacted\n"
     ]
    }
   ],
   "source": [
    "# check if the remove cell and remain cell in Dataframe adds to original cell in dataframe\n",
    "cln_data_size=Cleaned_data.shape\n",
    "cln_data_row=cln_data_size[0]\n",
    "cln_data_col=cln_data_size[1]\n",
    "total_col=cln_data_col + len(Drop_Col_Names)\n",
    "if(total_col == raw_data_col):\n",
    "    print('All Data Entacted')\n",
    "else:\n",
    "    print('Erron in number of column')   "
   ]
  },
  {
   "cell_type": "code",
   "execution_count": 11,
   "id": "2faa5e2d",
   "metadata": {},
   "outputs": [],
   "source": [
    "#remove entries that's loan status is 'current' since they have not finished loan yet and there is an ambiguity if they can be a defaulter.\n",
    "\n",
    "# Cleaned_data.sort_index(axis=1,inplace=True)\n",
    "Cleaned_data.set_index('loan_status',inplace=True)\n",
    "Cleaned_data.drop('Current',inplace=True)\n",
    "\n"
   ]
  },
  {
   "cell_type": "code",
   "execution_count": 12,
   "id": "9ca113a5",
   "metadata": {},
   "outputs": [],
   "source": [
    "# Add a column indicating defaulter. Defaulter are those whose loan status is charged off\n",
    "Cleaned_data['Defaulters']=Cleaned_data.index=='Charged Off'"
   ]
  },
  {
   "cell_type": "code",
   "execution_count": 13,
   "id": "a8686239",
   "metadata": {},
   "outputs": [],
   "source": [
    "# Add a column to existing data frame whic removed the % sign from int_rate column\n",
    "Cleaned_data['int_rate_float']=Cleaned_data.int_rate.apply(remove_percetange_symbol)"
   ]
  },
  {
   "cell_type": "code",
   "execution_count": 14,
   "id": "05362860",
   "metadata": {},
   "outputs": [],
   "source": [
    "# Add a column to existing data frame whic removed the % sign from  revol_util\n",
    "Cleaned_data['revol_util_float']=Cleaned_data.revol_util.apply(remove_percetange_symbol)"
   ]
  },
  {
   "cell_type": "code",
   "execution_count": 15,
   "id": "6c060002",
   "metadata": {},
   "outputs": [],
   "source": [
    "#Adding another column for eml_length whic is code as 0 for employement length of less than 1 year and as 11 for employee length greater than 10 years\n",
    "Cleaned_data['Emp_Len_Encoded']=Cleaned_data.emp_length.apply(encode_and_remove_years)"
   ]
  },
  {
   "cell_type": "code",
   "execution_count": 16,
   "id": "e515ea50",
   "metadata": {},
   "outputs": [],
   "source": [
    "# Add another column \"term_month\" toremove months from the existing data\n",
    "Cleaned_data['term_month']=Cleaned_data.term.apply(lambda x: int(x[0:len(x)-7]))\n"
   ]
  },
  {
   "cell_type": "code",
   "execution_count": 17,
   "id": "656e7eb7",
   "metadata": {},
   "outputs": [],
   "source": [
    "Cleaned_data.to_csv('cleaned_loan.csv')"
   ]
  },
  {
   "cell_type": "markdown",
   "id": "f9f7f684",
   "metadata": {},
   "source": [
    "### Univariate Analysis"
   ]
  },
  {
   "cell_type": "markdown",
   "id": "521cb732",
   "metadata": {},
   "source": [
    "##### Loan Amnt Funded"
   ]
  },
  {
   "cell_type": "code",
   "execution_count": 18,
   "id": "89c2e8f9",
   "metadata": {},
   "outputs": [
    {
     "name": "stdout",
     "output_type": "stream",
     "text": [
      "float64\n"
     ]
    },
    {
     "data": {
      "image/png": "[encoded data removed]",
      "text/plain": [
       "<Figure size 432x288 with 1 Axes>"
      ]
     },
     "metadata": {
      "needs_background": "light"
     },
     "output_type": "display_data"
    }
   ],
   "source": [
    "# Remove Outliers\n",
    "Cleaned_data['funded_amnt'].describe()\n",
    "plt.boxplot(Cleaned_data['funded_amnt_inv'])\n",
    "print(Cleaned_data['int_rate_float'].dtype)"
   ]
  },
  {
   "cell_type": "code",
   "execution_count": 19,
   "id": "4a459a45",
   "metadata": {},
   "outputs": [],
   "source": [
    "\n",
    "max_outlier_funded_amnt_inv=Cleaned_data['funded_amnt_inv'].describe()['75%'] + 1.5*(Cleaned_data['funded_amnt_inv'].describe()['75%'] - Cleaned_data['funded_amnt_inv'].describe()['25%'])\n",
    "min_outlier_funded_amnt_inv=Cleaned_data['funded_amnt_inv'].describe()['25%'] - 1.5*(Cleaned_data['funded_amnt_inv'].describe()['75%'] - Cleaned_data['funded_amnt_inv'].describe()['25%'])\n",
    "\n",
    "# Cleaned_data.drop(,inplace=True)"
   ]
  },
  {
   "cell_type": "code",
   "execution_count": 20,
   "id": "6dd9602a",
   "metadata": {
    "scrolled": true
   },
   "outputs": [
    {
     "data": {
      "text/plain": [
       "count    38577.000000\n",
       "mean     10222.481123\n",
       "std       7022.720644\n",
       "min          0.000000\n",
       "25%       5000.000000\n",
       "50%       8733.440000\n",
       "75%      14000.000000\n",
       "max      35000.000000\n",
       "Name: funded_amnt_inv, dtype: float64"
      ]
     },
     "execution_count": 20,
     "metadata": {},
     "output_type": "execute_result"
    }
   ],
   "source": [
    "Cleaned_data['funded_amnt_inv'].describe()"
   ]
  },
  {
   "cell_type": "code",
   "execution_count": 21,
   "id": "70314d14",
   "metadata": {},
   "outputs": [
    {
     "data": {
      "text/plain": [
       "0"
      ]
     },
     "execution_count": 21,
     "metadata": {},
     "output_type": "execute_result"
    }
   ],
   "source": [
    "#check for null values\n",
    "Cleaned_data['funded_amnt_inv'].isnull().sum()"
   ]
  },
  {
   "cell_type": "code",
   "execution_count": 22,
   "id": "81e287dc",
   "metadata": {},
   "outputs": [
    {
     "data": {
      "text/plain": [
       "8050"
      ]
     },
     "execution_count": 22,
     "metadata": {},
     "output_type": "execute_result"
    }
   ],
   "source": [
    "#check unique values\n",
    "Cleaned_data['funded_amnt_inv'].nunique()"
   ]
  },
  {
   "cell_type": "code",
   "execution_count": 23,
   "id": "73ffa9eb",
   "metadata": {},
   "outputs": [],
   "source": [
    "Cleaned_data.set_index(pd.Index(list(range(len(Cleaned_data)))),inplace=True)"
   ]
  },
  {
   "cell_type": "code",
   "execution_count": 24,
   "id": "3bb10bfc",
   "metadata": {},
   "outputs": [],
   "source": [
    "Cleaned_data.drop(Cleaned_data[Cleaned_data['funded_amnt_inv'] > max_outlier_funded_amnt_inv].index,inplace=True)"
   ]
  },
  {
   "cell_type": "code",
   "execution_count": 25,
   "id": "71d3f11b",
   "metadata": {},
   "outputs": [
    {
     "data": {
      "text/plain": [
       "count    37543.000000\n",
       "mean      9622.802729\n",
       "std       6087.150680\n",
       "min          0.000000\n",
       "25%       4994.193977\n",
       "50%       8375.000000\n",
       "75%      13430.668835\n",
       "max      27500.000000\n",
       "Name: funded_amnt_inv, dtype: float64"
      ]
     },
     "execution_count": 25,
     "metadata": {},
     "output_type": "execute_result"
    }
   ],
   "source": [
    "Cleaned_data['funded_amnt_inv'].describe()"
   ]
  },
  {
   "cell_type": "code",
   "execution_count": null,
   "id": "67f4b681",
   "metadata": {},
   "outputs": [],
   "source": []
  },
  {
   "cell_type": "code",
   "execution_count": null,
   "id": "c1cf6ba3",
   "metadata": {},
   "outputs": [],
   "source": []
  },
  {
   "cell_type": "code",
   "execution_count": 26,
   "id": "1988103e",
   "metadata": {},
   "outputs": [],
   "source": [
    "# Divide the funnded amount in six categories as\n",
    "# 0 to 4999 : 1\n",
    "# 5000 to 9999 : 2\n",
    "# 10000 to 14999 : 3\n",
    "# 15000 to 19999 : 4\n",
    "# 20000 to 24999 : 5\n",
    "# 25000 and more : 6  \n",
    "Cleaned_data['Cat_fund_inv']=Cleaned_data['funded_amnt_inv'].apply(cat_funded_amnt_inv)\n",
    "\n"
   ]
  },
  {
   "cell_type": "code",
   "execution_count": 27,
   "id": "264b843c",
   "metadata": {
    "scrolled": true
   },
   "outputs": [
    {
     "name": "stdout",
     "output_type": "stream",
     "text": [
      "0.6899659767891977\n",
      "-0.21305073242337302\n"
     ]
    },
    {
     "data": {
      "image/png": "[encoded data removed]",
      "text/plain": [
       "<Figure size 432x288 with 1 Axes>"
      ]
     },
     "metadata": {
      "needs_background": "light"
     },
     "output_type": "display_data"
    }
   ],
   "source": [
    "#Plotting histogram of category agains the no. of defaulters in each category.\n",
    "plt.hist(Cleaned_data['Cat_fund_inv'] )\n",
    "plt.title('Loan amount funded')\n",
    "plt.xlabel('Encoded Data')\n",
    "plt.ylabel('No. of Defaulters')\n",
    "print(skew(Cleaned_data['Cat_fund_inv'],bias=False))\n",
    "print(kurtosis(Cleaned_data['Cat_fund_inv'],bias=False))\n"
   ]
  },
  {
   "cell_type": "markdown",
   "id": "aed2c941",
   "metadata": {},
   "source": [
    "###### Since skew is less than 1 so it can be used for analysis"
   ]
  },
  {
   "cell_type": "markdown",
   "id": "75c1c755",
   "metadata": {},
   "source": [
    "### *** the no. of defaulters are more likely in the case of funded amount 5001 to 10000"
   ]
  },
  {
   "cell_type": "code",
   "execution_count": 28,
   "id": "2e6bd6d2",
   "metadata": {},
   "outputs": [],
   "source": [
    "# Finding percentage of defaulters against the non defaluters among the category.\n",
    "###********* All of the have simillar percetange of defaulter so percentage of defaulters among the category is not important\n",
    "non_defaulter_under_cat1=Cleaned_data[(Cleaned_data['Cat_fund_inv']== 1 ) & (Cleaned_data['Defaulters']== False)].sum()\n",
    "defaulter_under_cat1=Cleaned_data[(Cleaned_data['Cat_fund_inv']== 1 ) & (Cleaned_data['Defaulters']== True)].sum()\n",
    "cat_1_defalut_percetage=int(defaulter_under_cat1['Cat_fund_inv'])/(int(defaulter_under_cat1['Cat_fund_inv']) + int(non_defaulter_under_cat1['Cat_fund_inv']))\n",
    "\n",
    "non_defaulter_under_cat2=Cleaned_data[(Cleaned_data['Cat_fund_inv']== 2 ) & (Cleaned_data['Defaulters']== False)].sum()\n",
    "defaulter_under_cat2=Cleaned_data[(Cleaned_data['Cat_fund_inv']== 2 ) & (Cleaned_data['Defaulters']== True)].sum()\n",
    "cat_2_defalut_percetage=defaulter_under_cat2['Cat_fund_inv']/(defaulter_under_cat2['Cat_fund_inv'] + non_defaulter_under_cat2['Cat_fund_inv'])\n",
    "\n",
    "non_defaulter_under_cat3=Cleaned_data[(Cleaned_data['Cat_fund_inv']== 3 ) & (Cleaned_data['Defaulters']== False)].sum()\n",
    "defaulter_under_cat3=Cleaned_data[(Cleaned_data['Cat_fund_inv']== 3 ) & (Cleaned_data['Defaulters']== True)].sum()\n",
    "cat_3_defalut_percetage=defaulter_under_cat3['Cat_fund_inv']/(defaulter_under_cat3['Cat_fund_inv'] + non_defaulter_under_cat3['Cat_fund_inv'])\n",
    "\n",
    "non_defaulter_under_cat4=Cleaned_data[(Cleaned_data['Cat_fund_inv']== 4 ) & (Cleaned_data['Defaulters']== False)].sum()\n",
    "defaulter_under_cat4=Cleaned_data[(Cleaned_data['Cat_fund_inv']== 4 ) & (Cleaned_data['Defaulters']== True)].sum()\n",
    "cat_4_defalut_percetage=defaulter_under_cat4['Cat_fund_inv']/(defaulter_under_cat4['Cat_fund_inv'] + non_defaulter_under_cat4['Cat_fund_inv'])\n",
    "\n",
    "non_defaulter_under_cat5=Cleaned_data[(Cleaned_data['Cat_fund_inv']== 5 ) & (Cleaned_data['Defaulters']== False)].sum()\n",
    "defaulter_under_cat5=Cleaned_data[(Cleaned_data['Cat_fund_inv']== 5 ) & (Cleaned_data['Defaulters']== True)].sum()\n",
    "cat_5_defalut_percetage=defaulter_under_cat5['Cat_fund_inv']/(defaulter_under_cat5['Cat_fund_inv'] + non_defaulter_under_cat5['Cat_fund_inv'])\n",
    "\n",
    "non_defaulter_under_cat6=Cleaned_data[(Cleaned_data['Cat_fund_inv']== 6 ) & (Cleaned_data['Defaulters']== False)].sum()\n",
    "defaulter_under_cat6=Cleaned_data[(Cleaned_data['Cat_fund_inv']== 6 ) & (Cleaned_data['Defaulters']== True)].sum()\n",
    "cat_6_defalut_percetage=defaulter_under_cat6['Cat_fund_inv']/(defaulter_under_cat6['Cat_fund_inv'] + non_defaulter_under_cat6['Cat_fund_inv'])"
   ]
  },
  {
   "cell_type": "markdown",
   "id": "73e5e05e",
   "metadata": {},
   "source": [
    "### **** percentages of defaulters are same across all the category"
   ]
  },
  {
   "cell_type": "markdown",
   "id": "02179c6f",
   "metadata": {},
   "source": [
    "##### process ' Interest rate' column"
   ]
  },
  {
   "cell_type": "code",
   "execution_count": 29,
   "id": "ac009ec1",
   "metadata": {},
   "outputs": [
    {
     "name": "stdout",
     "output_type": "stream",
     "text": [
      "Datatype of interest rate: float64\n",
      "ANy Null Value in interest rate: 0\n"
     ]
    }
   ],
   "source": [
    "#check the data type of interest variable\n",
    "print(f'Datatype of interest rate: {Cleaned_data.int_rate_float.dtype}')\n",
    "print(f'ANy Null Value in interest rate: {Cleaned_data.int_rate_float.isnull().sum()}')\n"
   ]
  },
  {
   "cell_type": "code",
   "execution_count": 30,
   "id": "3cda2488",
   "metadata": {},
   "outputs": [
    {
     "data": {
      "text/plain": [
       "{'whiskers': [<matplotlib.lines.Line2D at 0x1b52d12a100>,\n",
       "  <matplotlib.lines.Line2D at 0x1b52d12a460>],\n",
       " 'caps': [<matplotlib.lines.Line2D at 0x1b52d12a7c0>,\n",
       "  <matplotlib.lines.Line2D at 0x1b52d12ab20>],\n",
       " 'boxes': [<matplotlib.lines.Line2D at 0x1b52d0f3d60>],\n",
       " 'medians': [<matplotlib.lines.Line2D at 0x1b52d12ae80>],\n",
       " 'fliers': [<matplotlib.lines.Line2D at 0x1b52d11f220>],\n",
       " 'means': []}"
      ]
     },
     "execution_count": 30,
     "metadata": {},
     "output_type": "execute_result"
    },
    {
     "data": {
      "image/png": "[encoded data removed]",
      "text/plain": [
       "<Figure size 432x288 with 1 Axes>"
      ]
     },
     "metadata": {
      "needs_background": "light"
     },
     "output_type": "display_data"
    }
   ],
   "source": [
    "# plot boxplot of the interest rate to identify if any outliers are present\n",
    "plt.boxplot(Cleaned_data['int_rate_float'])"
   ]
  },
  {
   "cell_type": "code",
   "execution_count": 31,
   "id": "93c24672",
   "metadata": {},
   "outputs": [
    {
     "data": {
      "text/plain": [
       "{'whiskers': [<matplotlib.lines.Line2D at 0x1b52d2439d0>,\n",
       "  <matplotlib.lines.Line2D at 0x1b52d243d30>],\n",
       " 'caps': [<matplotlib.lines.Line2D at 0x1b52d2c00d0>,\n",
       "  <matplotlib.lines.Line2D at 0x1b52d2c0430>],\n",
       " 'boxes': [<matplotlib.lines.Line2D at 0x1b52d243670>],\n",
       " 'medians': [<matplotlib.lines.Line2D at 0x1b52d2c0790>],\n",
       " 'fliers': [<matplotlib.lines.Line2D at 0x1b52d2c0af0>],\n",
       " 'means': []}"
      ]
     },
     "execution_count": 31,
     "metadata": {},
     "output_type": "execute_result"
    },
    {
     "data": {
      "image/png": "[encoded data removed]",
      "text/plain": [
       "<Figure size 432x288 with 1 Axes>"
      ]
     },
     "metadata": {
      "needs_background": "light"
     },
     "output_type": "display_data"
    }
   ],
   "source": [
    "#remove outliers on interest rate\n",
    "max_outlier_int_rate_float=Cleaned_data['int_rate_float'].quantile(.75) + 1.5*(Cleaned_data['int_rate_float'].quantile(.75) - Cleaned_data['int_rate_float'].quantile(.25))\n",
    "min_outlier_int_rate_float=Cleaned_data['int_rate_float'].quantile(.25) - 1.5*(Cleaned_data['int_rate_float'].quantile(.75) - Cleaned_data['int_rate_float'].quantile(.25))\n",
    "\n",
    "Cleaned_data.drop(Cleaned_data[Cleaned_data['int_rate_float'] > max_outlier_int_rate_float].index,inplace=True)\n",
    "Cleaned_data.drop(Cleaned_data[Cleaned_data['int_rate_float'] < min_outlier_int_rate_float].index,inplace=True)\n",
    "plt.boxplot(Cleaned_data['int_rate_float'])"
   ]
  },
  {
   "cell_type": "code",
   "execution_count": 32,
   "id": "9168ac31",
   "metadata": {},
   "outputs": [
    {
     "data": {
      "text/plain": [
       "Text(0, 0.5, 'No. of Defaulters')"
      ]
     },
     "execution_count": 32,
     "metadata": {},
     "output_type": "execute_result"
    },
    {
     "data": {
      "image/png": "[encoded data removed]",
      "text/plain": [
       "<Figure size 432x288 with 1 Axes>"
      ]
     },
     "metadata": {
      "needs_background": "light"
     },
     "output_type": "display_data"
    }
   ],
   "source": [
    "#Before Categorising\n",
    "plt.hist(Cleaned_data[Cleaned_data.Defaulters==True]['int_rate_float'],width=1)\n",
    "plt.title('Interest Rates')\n",
    "plt.xlabel('Interest Rate in %')\n",
    "plt.ylabel('No. of Defaulters')"
   ]
  },
  {
   "cell_type": "code",
   "execution_count": 33,
   "id": "786c92d6",
   "metadata": {},
   "outputs": [],
   "source": [
    "#Categories the column since its a continuous varaible and use defaulters only\n",
    "Cleaned_data['cat_int_rate_float']=Cleaned_data['int_rate_float'].apply(Func_cat_int_rate_float)\n",
    "\n",
    "#Focus only with the defaulters now\n",
    "Temp=Cleaned_data.drop(Cleaned_data[Cleaned_data['Defaulters'] == True].index,inplace=False)\n"
   ]
  },
  {
   "cell_type": "code",
   "execution_count": 34,
   "id": "bef6a775",
   "metadata": {},
   "outputs": [
    {
     "name": "stdout",
     "output_type": "stream",
     "text": [
      "0.24271828162843828\n",
      "-0.5493774481117013\n"
     ]
    }
   ],
   "source": [
    "# plot and find skew values\n",
    "\n",
    "print(skew(Cleaned_data['int_rate_float'],bias=False))\n",
    "print(kurtosis(Cleaned_data['int_rate_float'],bias=False))"
   ]
  },
  {
   "cell_type": "markdown",
   "id": "9c8accef",
   "metadata": {},
   "source": [
    "##### Interest rate of 10 to 17.5 are more likely to default"
   ]
  },
  {
   "cell_type": "markdown",
   "id": "67393f68",
   "metadata": {},
   "source": [
    "###### Process DTI Column"
   ]
  },
  {
   "cell_type": "code",
   "execution_count": 35,
   "id": "1b3ae8b2",
   "metadata": {},
   "outputs": [
    {
     "name": "stdout",
     "output_type": "stream",
     "text": [
      "Data types of dti column: float64\n",
      "nullvalues : 0\n",
      "count    37477.000000\n",
      "mean        13.263832\n",
      "std          6.678134\n",
      "min          0.000000\n",
      "25%          8.110000\n",
      "50%         13.350000\n",
      "75%         18.560000\n",
      "max         29.990000\n",
      "Name: dti, dtype: float64\n",
      "2.0318888373241863\n"
     ]
    },
    {
     "data": {
      "image/png": "[encoded data removed]",
      "text/plain": [
       "<Figure size 432x288 with 1 Axes>"
      ]
     },
     "metadata": {
      "needs_background": "light"
     },
     "output_type": "display_data"
    }
   ],
   "source": [
    "print(f'Data types of dti column: {Cleaned_data.dti.dtypes}')\n",
    "print(f'nullvalues : {Cleaned_data.dti.isnull().sum()}')\n",
    "print(Cleaned_data.dti.describe())\n",
    "plt.boxplot(Cleaned_data['dti'])\n",
    "\n",
    "temp=Cleaned_data.copy()\n",
    "temp.drop(temp[((temp['dti']==0) | (temp['Defaulters']==False))].index,inplace=True)\n",
    "plt.hist(temp.dti)\n",
    "plt.title('DTI')\n",
    "plt.xlabel('DTI %')\n",
    "plt.ylabel('No. of Defaulters')\n",
    "print(skew(Cleaned_data['Defaulters']))"
   ]
  },
  {
   "cell_type": "code",
   "execution_count": 36,
   "id": "93bd0de0",
   "metadata": {},
   "outputs": [],
   "source": [
    "####"
   ]
  },
  {
   "cell_type": "markdown",
   "id": "fee9c284",
   "metadata": {},
   "source": [
    "##### DTI : Data Distribution is skewed, no null values, all data of same float type and no outlier.  DTI "
   ]
  },
  {
   "cell_type": "markdown",
   "id": "ddb9e7ce",
   "metadata": {},
   "source": [
    "##### Process Term Column"
   ]
  },
  {
   "cell_type": "code",
   "execution_count": 37,
   "id": "953e8852",
   "metadata": {},
   "outputs": [
    {
     "name": "stdout",
     "output_type": "stream",
     "text": [
      "Data types of term column: int64\n",
      "nullvalues : 0\n",
      "count    37477.000000\n",
      "mean        41.593831\n",
      "std         10.147105\n",
      "min         36.000000\n",
      "25%         36.000000\n",
      "50%         36.000000\n",
      "75%         36.000000\n",
      "max         60.000000\n",
      "Name: term_month, dtype: float64\n",
      "36    28742\n",
      "60     8735\n",
      "Name: term_month, dtype: int64\n"
     ]
    }
   ],
   "source": [
    "#check the type of column,nullvalues and mode and outlier\n",
    "print(f'Data types of term column: {Cleaned_data.term_month.dtypes}')\n",
    "print(f'nullvalues : {Cleaned_data.term_month.isnull().sum()}')\n",
    "print(Cleaned_data.term_month.describe())\n",
    "print(Cleaned_data.term_month.value_counts())"
   ]
  },
  {
   "cell_type": "code",
   "execution_count": 38,
   "id": "48741086",
   "metadata": {},
   "outputs": [
    {
     "data": {
      "text/plain": [
       "Text(0, 0.5, 'No. of Defaulters')"
      ]
     },
     "execution_count": 38,
     "metadata": {},
     "output_type": "execute_result"
    },
    {
     "data": {
      "image/png": "[encoded data removed]",
      "text/plain": [
       "<Figure size 432x288 with 1 Axes>"
      ]
     },
     "metadata": {
      "needs_background": "light"
     },
     "output_type": "display_data"
    }
   ],
   "source": [
    "temp=Cleaned_data[Cleaned_data['Defaulters']==True]\n",
    "plt.hist(temp['term_month'])\n",
    "plt.title('Tenure of Loan')\n",
    "plt.xlabel('Months')\n",
    "plt.ylabel('No. of Defaulters')"
   ]
  },
  {
   "cell_type": "markdown",
   "id": "8ecab3a3",
   "metadata": {},
   "source": [
    "##### term:  loan payments terms of 36 months most likely to be defaulters"
   ]
  },
  {
   "cell_type": "markdown",
   "id": "a8314990",
   "metadata": {},
   "source": [
    "#### Process 'grade' column"
   ]
  },
  {
   "cell_type": "code",
   "execution_count": 39,
   "id": "5db1b5d3",
   "metadata": {},
   "outputs": [
    {
     "name": "stdout",
     "output_type": "stream",
     "text": [
      "Data types of grade column: object\n",
      "nullvalues : 0\n",
      "count     37477\n",
      "unique        7\n",
      "top           B\n",
      "freq      11444\n",
      "Name: grade, dtype: object\n",
      "B    1392\n",
      "C    1315\n",
      "D    1089\n",
      "E     661\n",
      "A     598\n",
      "F     266\n",
      "G      63\n",
      "Name: grade, dtype: int64\n"
     ]
    }
   ],
   "source": [
    "#check the type of column,nullvalues and mode and outlier\n",
    "print(f'Data types of grade column: {Cleaned_data.grade.dtypes}')\n",
    "print(f'nullvalues : {Cleaned_data.grade.isnull().sum()}')\n",
    "print(Cleaned_data.grade.describe())\n",
    "print(Cleaned_data[Cleaned_data['Defaulters']==True].grade.value_counts())"
   ]
  },
  {
   "cell_type": "code",
   "execution_count": 40,
   "id": "d3cf6521",
   "metadata": {},
   "outputs": [
    {
     "data": {
      "text/plain": [
       "Text(0, 0.5, 'No. of Defaulters')"
      ]
     },
     "execution_count": 40,
     "metadata": {},
     "output_type": "execute_result"
    },
    {
     "data": {
      "image/png": "[encoded data removed]",
      "text/plain": [
       "<Figure size 432x288 with 1 Axes>"
      ]
     },
     "metadata": {
      "needs_background": "light"
     },
     "output_type": "display_data"
    }
   ],
   "source": [
    "plt.hist(Cleaned_data[Cleaned_data['Defaulters']==True].grade,width=1)\n",
    "plt.title('Grade Varaible')\n",
    "plt.xlabel('Grades')\n",
    "plt.ylabel('No. of Defaulters')"
   ]
  },
  {
   "cell_type": "code",
   "execution_count": 41,
   "id": "cc2e666b",
   "metadata": {},
   "outputs": [
    {
     "data": {
      "text/plain": [
       "B    1392\n",
       "C    1315\n",
       "D    1089\n",
       "E     661\n",
       "A     598\n",
       "F     266\n",
       "G      63\n",
       "Name: grade, dtype: int64"
      ]
     },
     "execution_count": 41,
     "metadata": {},
     "output_type": "execute_result"
    }
   ],
   "source": [
    "Cleaned_data[Cleaned_data['Defaulters']==True].grade.value_counts()"
   ]
  },
  {
   "cell_type": "markdown",
   "id": "431eac13",
   "metadata": {},
   "source": [
    "##### Grade BCD likely to defaults"
   ]
  },
  {
   "cell_type": "markdown",
   "id": "e074330d",
   "metadata": {},
   "source": [
    "##### Process 'sub grade' column"
   ]
  },
  {
   "cell_type": "code",
   "execution_count": 42,
   "id": "61a627e5",
   "metadata": {},
   "outputs": [
    {
     "name": "stdout",
     "output_type": "stream",
     "text": [
      "Data types of grade column: object\n",
      "nullvalues : 0\n",
      "count     37477\n",
      "unique       35\n",
      "top          A4\n",
      "freq       2816\n",
      "Name: sub_grade, dtype: object\n",
      "B5    348\n",
      "B3    329\n",
      "C1    323\n",
      "B4    320\n",
      "C2    312\n",
      "D2    269\n",
      "C3    266\n",
      "D3    243\n",
      "B2    225\n",
      "A5    217\n",
      "D4    210\n",
      "C4    210\n",
      "C5    204\n",
      "D5    202\n",
      "E1    181\n",
      "A4    176\n",
      "B1    170\n",
      "D1    165\n",
      "E2    152\n",
      "E4    119\n",
      "E3    115\n",
      "A3    102\n",
      "E5     94\n",
      "F1     77\n",
      "A2     73\n",
      "F2     64\n",
      "F3     46\n",
      "F4     44\n",
      "F5     35\n",
      "A1     30\n",
      "G1     20\n",
      "G2     16\n",
      "G3     11\n",
      "G4      8\n",
      "G5      8\n",
      "Name: sub_grade, dtype: int64\n"
     ]
    }
   ],
   "source": [
    "#check the type of column,nullvalues and mode and outlier\n",
    "print(f'Data types of grade column: {Cleaned_data.sub_grade.dtypes}')\n",
    "print(f'nullvalues : {Cleaned_data.sub_grade.isnull().sum()}')\n",
    "print(Cleaned_data.sub_grade.describe())\n",
    "print(Cleaned_data[Cleaned_data['Defaulters']==True].sub_grade.value_counts())"
   ]
  },
  {
   "cell_type": "code",
   "execution_count": 43,
   "id": "c972f7ac",
   "metadata": {},
   "outputs": [
    {
     "data": {
      "text/plain": [
       "(array([945., 874., 968., 566., 541., 520., 390., 452.,  85.,  43.]),\n",
       " array([ 0. ,  3.4,  6.8, 10.2, 13.6, 17. , 20.4, 23.8, 27.2, 30.6, 34. ]),\n",
       " <BarContainer object of 10 artists>)"
      ]
     },
     "execution_count": 43,
     "metadata": {},
     "output_type": "execute_result"
    },
    {
     "data": {
      "image/png": "[encoded data removed]",
      "text/plain": [
       "<Figure size 432x288 with 1 Axes>"
      ]
     },
     "metadata": {
      "needs_background": "light"
     },
     "output_type": "display_data"
    }
   ],
   "source": [
    "plt.hist(Cleaned_data[Cleaned_data['Defaulters']==True].sub_grade,width=0.5)"
   ]
  },
  {
   "cell_type": "markdown",
   "id": "f3306439",
   "metadata": {},
   "source": [
    "##### Categories from B C and D are the most common one to default"
   ]
  },
  {
   "cell_type": "markdown",
   "id": "3a342739",
   "metadata": {},
   "source": [
    "#### Process Data on 'emp_length' column"
   ]
  },
  {
   "cell_type": "code",
   "execution_count": 44,
   "id": "3bb5b77d",
   "metadata": {},
   "outputs": [
    {
     "name": "stdout",
     "output_type": "stream",
     "text": [
      "Data types of Employee length: object\n",
      "nullvalues : 0\n",
      "Statistics of column:\n",
      " count     37477\n",
      "unique       12\n",
      "top          10\n",
      "freq       8088\n",
      "Name: Emp_Len_Encoded, dtype: int64\n",
      " Value count of column: \n",
      " 10     1238\n",
      "0       624\n",
      "2       552\n",
      "3       532\n",
      "1       447\n",
      "4       442\n",
      "5       436\n",
      "6       294\n",
      "7       248\n",
      "NAN     222\n",
      "8       193\n",
      "9       156\n",
      "Name: Emp_Len_Encoded, dtype: int64\n"
     ]
    }
   ],
   "source": [
    "\n",
    "#check the type of column,nullvalues and mode and outlier\n",
    "print(f'Data types of Employee length: {Cleaned_data.Emp_Len_Encoded.dtypes}')\n",
    "print(f'nullvalues : {Cleaned_data.Emp_Len_Encoded.isnull().sum()}')\n",
    "print(f'Statistics of column:\\n {Cleaned_data.Emp_Len_Encoded.describe()}')\n",
    "print(f' Value count of column: \\n {Cleaned_data[Cleaned_data.Defaulters==True].Emp_Len_Encoded.value_counts()}')"
   ]
  },
  {
   "cell_type": "markdown",
   "id": "cb28872b",
   "metadata": {},
   "source": [
    "##### From desccribe we can see 'NAN' valves are present. So remove the NAN"
   ]
  },
  {
   "cell_type": "code",
   "execution_count": 45,
   "id": "38c79918",
   "metadata": {},
   "outputs": [
    {
     "name": "stdout",
     "output_type": "stream",
     "text": [
      "0\n"
     ]
    }
   ],
   "source": [
    "#remove NAN and crosscheck so that we can work on that column further\n",
    "temp=Cleaned_data.drop(Cleaned_data[(Cleaned_data.Emp_Len_Encoded=='NAN') ].index,inplace=False)\n",
    "print( temp[(temp.Emp_Len_Encoded=='NAN') & (temp.Defaulters==True)].Emp_Len_Encoded.sum())"
   ]
  },
  {
   "cell_type": "code",
   "execution_count": 46,
   "id": "6333d60f",
   "metadata": {},
   "outputs": [
    {
     "data": {
      "text/plain": [
       "Text(0, 0.5, 'No. of Defaulters')"
      ]
     },
     "execution_count": 46,
     "metadata": {},
     "output_type": "execute_result"
    },
    {
     "data": {
      "image/png": "[encoded data removed]",
      "text/plain": [
       "<Figure size 432x288 with 1 Axes>"
      ]
     },
     "metadata": {
      "needs_background": "light"
     },
     "output_type": "display_data"
    }
   ],
   "source": [
    "plt.hist(temp[temp.Defaulters==True].Emp_Len_Encoded,width=1)\n",
    "plt.title('Employement Years')\n",
    "plt.xlabel('Employement Tenure in Years')\n",
    "plt.ylabel('No. of Defaulters')"
   ]
  },
  {
   "cell_type": "code",
   "execution_count": 47,
   "id": "ec25aafa",
   "metadata": {},
   "outputs": [
    {
     "data": {
      "text/plain": [
       "10    1238\n",
       "0      624\n",
       "2      552\n",
       "3      532\n",
       "1      447\n",
       "4      442\n",
       "5      436\n",
       "6      294\n",
       "7      248\n",
       "8      193\n",
       "9      156\n",
       "Name: Emp_Len_Encoded, dtype: int64"
      ]
     },
     "execution_count": 47,
     "metadata": {},
     "output_type": "execute_result"
    }
   ],
   "source": [
    "temp[temp.Defaulters==True].Emp_Len_Encoded.value_counts()"
   ]
  },
  {
   "cell_type": "markdown",
   "id": "7c00e3ec",
   "metadata": {},
   "source": [
    "##### The employee length of more than 10yrs are most likely to default"
   ]
  },
  {
   "cell_type": "markdown",
   "id": "0d186e72",
   "metadata": {},
   "source": [
    "##### Process 'home_ownership' column"
   ]
  },
  {
   "cell_type": "code",
   "execution_count": 48,
   "id": "3f127e45",
   "metadata": {},
   "outputs": [
    {
     "name": "stdout",
     "output_type": "stream",
     "text": [
      "Data types of Home Ownership: object\n",
      "nullvalues in home onwership: 0\n",
      "Statistics of column home ownership:\n",
      " count     37477\n",
      "unique        5\n",
      "top        RENT\n",
      "freq      18180\n",
      "Name: home_ownership, dtype: object\n",
      "Value count of column homw ownership: \n",
      "RENT        2757\n",
      "MORTGAGE    2181\n",
      "OWN          428\n",
      "OTHER         18\n",
      "Name: home_ownership, dtype: int64\n"
     ]
    }
   ],
   "source": [
    "#check the type of column,nullvalues and mode and outlier\n",
    "print(f'Data types of Home Ownership: {Cleaned_data.home_ownership.dtypes}')\n",
    "print(f'nullvalues in home onwership: {Cleaned_data.home_ownership.isnull().sum()}')\n",
    "print(f'Statistics of column home ownership:\\n {Cleaned_data.home_ownership.describe()}')\n",
    "print(f'Value count of column homw ownership: \\n{ Cleaned_data[Cleaned_data.Defaulters==True].home_ownership.value_counts()}')"
   ]
  },
  {
   "cell_type": "code",
   "execution_count": 49,
   "id": "800bfd8f",
   "metadata": {},
   "outputs": [
    {
     "data": {
      "text/plain": [
       "Text(0, 0.5, 'No. of Defaulters')"
      ]
     },
     "execution_count": 49,
     "metadata": {},
     "output_type": "execute_result"
    },
    {
     "data": {
      "image/png": "[encoded data removed]",
      "text/plain": [
       "<Figure size 432x288 with 1 Axes>"
      ]
     },
     "metadata": {
      "needs_background": "light"
     },
     "output_type": "display_data"
    }
   ],
   "source": [
    "plt.hist(Cleaned_data[Cleaned_data.Defaulters==True].home_ownership,width=1)\n",
    "plt.title('Home Ownership')\n",
    "plt.xlabel('Type of Ownership')\n",
    "plt.ylabel('No. of Defaulters')"
   ]
  },
  {
   "cell_type": "markdown",
   "id": "b630bd0d",
   "metadata": {},
   "source": [
    "##### Borrower whose lives either in RENT or thier home is kept as MORTGAGE most likely to default"
   ]
  },
  {
   "cell_type": "markdown",
   "id": "1281865a",
   "metadata": {},
   "source": [
    "##### Process Column 'annual_inc' column"
   ]
  },
  {
   "cell_type": "code",
   "execution_count": 50,
   "id": "3053683c",
   "metadata": {},
   "outputs": [
    {
     "name": "stdout",
     "output_type": "stream",
     "text": [
      "Data types of annual_inc: float64\n",
      "nullvalues in home annual_inc: 0\n",
      "Statistics of column annual_inc:\n",
      " count    3.747700e+04\n",
      "mean     6.716519e+04\n",
      "std      6.294704e+04\n",
      "min      4.000000e+03\n",
      "25%      4.000000e+04\n",
      "50%      5.724000e+04\n",
      "75%      8.000000e+04\n",
      "max      6.000000e+06\n",
      "Name: annual_inc, dtype: float64\n",
      "Value count of column annual_inc: \n",
      "60000.0     245\n",
      "50000.0     163\n",
      "40000.0     153\n",
      "30000.0     139\n",
      "36000.0     130\n",
      "           ... \n",
      "33198.0       1\n",
      "122748.0      1\n",
      "78586.0       1\n",
      "64668.0       1\n",
      "41280.0       1\n",
      "Name: annual_inc, Length: 1214, dtype: int64\n"
     ]
    }
   ],
   "source": [
    "#check the type of column,nullvalues and mode and outlier\n",
    "print(f'Data types of annual_inc: {Cleaned_data.annual_inc.dtypes}')\n",
    "print(f'nullvalues in home annual_inc: {Cleaned_data.annual_inc.isnull().sum()}')\n",
    "print(f'Statistics of column annual_inc:\\n {Cleaned_data.annual_inc.describe()}')\n",
    "print(f'Value count of column annual_inc: \\n{ Cleaned_data[Cleaned_data.Defaulters==True].annual_inc.value_counts()}')"
   ]
  },
  {
   "cell_type": "code",
   "execution_count": 51,
   "id": "4730cfea",
   "metadata": {},
   "outputs": [],
   "source": [
    "# Categorise the data by using lambda function\n",
    "# This function is used to categories the annual income into 14 categories of 10000 each.\n",
    "#This is done by dividing the annual income by 10000 and returning only dividend. We know that maximum value after removing outlier for annual inc is 140000\n",
    "# so by this way\n",
    "Cleaned_data['cat_annual_inc']=Cleaned_data.annual_inc.apply(lambda x : (x//10000))"
   ]
  },
  {
   "cell_type": "code",
   "execution_count": 52,
   "id": "7f06b4ec",
   "metadata": {},
   "outputs": [
    {
     "data": {
      "image/png": "[encoded data removed]",
      "text/plain": [
       "<Figure size 432x288 with 1 Axes>"
      ]
     },
     "metadata": {
      "needs_background": "light"
     },
     "output_type": "display_data"
    }
   ],
   "source": [
    "# since max and mean differ by huge amount so detect the outlier, confirm the outlier from box plot and histogram\n",
    "plt.boxplot(Cleaned_data[Cleaned_data['Defaulters']==True].annual_inc)\n",
    "temp=Cleaned_data.copy()   # so that original data is not disturbed during analysis"
   ]
  },
  {
   "cell_type": "code",
   "execution_count": 53,
   "id": "f38f9731",
   "metadata": {},
   "outputs": [
    {
     "data": {
      "text/plain": [
       "{'whiskers': [<matplotlib.lines.Line2D at 0x1b52d37df10>,\n",
       "  <matplotlib.lines.Line2D at 0x1b5219d9d90>],\n",
       " 'caps': [<matplotlib.lines.Line2D at 0x1b52d349430>,\n",
       "  <matplotlib.lines.Line2D at 0x1b52d349970>],\n",
       " 'boxes': [<matplotlib.lines.Line2D at 0x1b52d37d0a0>],\n",
       " 'medians': [<matplotlib.lines.Line2D at 0x1b52b682c40>],\n",
       " 'fliers': [<matplotlib.lines.Line2D at 0x1b52b682700>],\n",
       " 'means': []}"
      ]
     },
     "execution_count": 53,
     "metadata": {},
     "output_type": "execute_result"
    },
    {
     "data": {
      "image/png": "[encoded data removed]",
      "text/plain": [
       "<Figure size 432x288 with 1 Axes>"
      ]
     },
     "metadata": {
      "needs_background": "light"
     },
     "output_type": "display_data"
    }
   ],
   "source": [
    "# RemoveOutlier\n",
    "max_outlier_annual_inc=temp['annual_inc'].quantile(.75) + (1.5*(temp['annual_inc'].quantile(.75) - temp['annual_inc'].quantile(.25)))\n",
    "min_outlier_annual_inc=temp['annual_inc'].quantile(.25) - (1.5*(temp['annual_inc'].quantile(.75) - temp['annual_inc'].quantile(.25)))\n",
    "\n",
    "temp.drop(temp[temp['annual_inc'] > max_outlier_annual_inc].index,inplace=True)\n",
    "temp.drop(temp[temp['annual_inc'] < min_outlier_annual_inc].index,inplace=True)\n",
    "plt.boxplot(temp[(temp['Defaulters']==True)].annual_inc)"
   ]
  },
  {
   "cell_type": "code",
   "execution_count": 54,
   "id": "dc6309dc",
   "metadata": {},
   "outputs": [
    {
     "data": {
      "text/plain": [
       "count     35815.000000\n",
       "mean      60132.760916\n",
       "std       27405.584412\n",
       "min        4000.000000\n",
       "25%       40000.000000\n",
       "50%       55000.000000\n",
       "75%       75856.000000\n",
       "max      140000.000000\n",
       "Name: annual_inc, dtype: float64"
      ]
     },
     "execution_count": 54,
     "metadata": {},
     "output_type": "execute_result"
    }
   ],
   "source": [
    "temp.annual_inc.describe()"
   ]
  },
  {
   "cell_type": "code",
   "execution_count": 55,
   "id": "351bd0c3",
   "metadata": {},
   "outputs": [
    {
     "data": {
      "text/plain": [
       "Text(0, 0.5, 'No. of Defaulters')"
      ]
     },
     "execution_count": 55,
     "metadata": {},
     "output_type": "execute_result"
    },
    {
     "data": {
      "image/png": "[encoded data removed]",
      "text/plain": [
       "<Figure size 432x288 with 1 Axes>"
      ]
     },
     "metadata": {
      "needs_background": "light"
     },
     "output_type": "display_data"
    }
   ],
   "source": [
    "plt.hist(temp[(temp['Defaulters']==True)].cat_annual_inc,width=1)\n",
    "plt.title('Annual Income')\n",
    "plt.xlabel('Categorical Annual Income(Encoded)')\n",
    "plt.ylabel('No. of Defaulters')"
   ]
  },
  {
   "cell_type": "markdown",
   "id": "65089fad",
   "metadata": {},
   "source": [
    "##### Annual income between 30000 and 39999 are most likely to default"
   ]
  },
  {
   "cell_type": "markdown",
   "id": "cb7003af",
   "metadata": {},
   "source": [
    "#### Process on 'verification_status' column"
   ]
  },
  {
   "cell_type": "code",
   "execution_count": 56,
   "id": "e604b2d4",
   "metadata": {},
   "outputs": [
    {
     "name": "stdout",
     "output_type": "stream",
     "text": [
      "Data types of verification_status: object\n",
      "nullvalues in verification_status: 0\n",
      "Statistics of column verification_status:\n",
      " count            37477\n",
      "unique               3\n",
      "top       Not Verified\n",
      "freq             16676\n",
      "Name: verification_status, dtype: object\n",
      "Value count of column verification_status: \n",
      "Not Verified       2136\n",
      "Verified           1852\n",
      "Source Verified    1396\n",
      "Name: verification_status, dtype: int64\n"
     ]
    }
   ],
   "source": [
    "#check the type of column,nullvalues and mode and outlier\n",
    "print(f'Data types of verification_status: {Cleaned_data.verification_status.dtypes}')\n",
    "print(f'nullvalues in verification_status: {Cleaned_data.verification_status.isnull().sum()}')\n",
    "print(f'Statistics of column verification_status:\\n {Cleaned_data.verification_status.describe()}')\n",
    "print(f'Value count of column verification_status: \\n{ Cleaned_data[Cleaned_data.Defaulters==True].verification_status.value_counts()}')"
   ]
  },
  {
   "cell_type": "code",
   "execution_count": 82,
   "id": "667e518c",
   "metadata": {},
   "outputs": [
    {
     "data": {
      "text/plain": [
       "Text(0, 0.5, 'No. of Defaulters')"
      ]
     },
     "execution_count": 82,
     "metadata": {},
     "output_type": "execute_result"
    },
    {
     "data": {
      "image/png": "[encoded data removed]",
      "text/plain": [
       "<Figure size 432x288 with 1 Axes>"
      ]
     },
     "metadata": {
      "needs_background": "light"
     },
     "output_type": "display_data"
    }
   ],
   "source": [
    "plt.hist(Cleaned_data[Cleaned_data['Defaulters']==True].verification_status)\n",
    "plt.title('Verification Status')\n",
    "plt.xlabel('Status')\n",
    "plt.ylabel('No. of Defaulters')"
   ]
  },
  {
   "cell_type": "markdown",
   "id": "2cdc9c1d",
   "metadata": {},
   "source": [
    "##### Borrower's whose source is verified is less likely to default"
   ]
  },
  {
   "cell_type": "markdown",
   "id": "5901cca9",
   "metadata": {},
   "source": [
    "##### Process Column 'purpose' column"
   ]
  },
  {
   "cell_type": "code",
   "execution_count": 58,
   "id": "979055ee",
   "metadata": {},
   "outputs": [
    {
     "name": "stdout",
     "output_type": "stream",
     "text": [
      "Data types of purpose: object\n",
      "nullvalues in purpose: 0\n",
      "Statistics of column purpose:\n",
      " count                  37477\n",
      "unique                    14\n",
      "top       debt_consolidation\n",
      "freq                   17409\n",
      "Name: purpose, dtype: object\n",
      "Value count of column purpose: \n",
      "debt_consolidation    2614\n",
      "other                  616\n",
      "credit_card            526\n",
      "small_business         445\n",
      "home_improvement       334\n",
      "major_purchase         221\n",
      "car                    159\n",
      "medical                103\n",
      "wedding                 95\n",
      "moving                  92\n",
      "educational             56\n",
      "vacation                53\n",
      "house                   52\n",
      "renewable_energy        18\n",
      "Name: purpose, dtype: int64\n"
     ]
    }
   ],
   "source": [
    "#check the type of column,nullvalues and mode and outlier\n",
    "print(f'Data types of purpose: {Cleaned_data.purpose.dtypes}')\n",
    "print(f'nullvalues in purpose: {Cleaned_data.purpose.isnull().sum()}')\n",
    "print(f'Statistics of column purpose:\\n {Cleaned_data.purpose.describe()}')\n",
    "print(f'Value count of column purpose: \\n{ Cleaned_data[Cleaned_data.Defaulters==True].purpose.value_counts()}')"
   ]
  },
  {
   "cell_type": "markdown",
   "id": "87319943",
   "metadata": {},
   "source": [
    "###### Clearly from the value counts, we can see the number of defaulters are more who has taken loan for debt consolidation"
   ]
  },
  {
   "cell_type": "code",
   "execution_count": 83,
   "id": "7bef4bac",
   "metadata": {},
   "outputs": [
    {
     "data": {
      "text/plain": [
       "Text(0, 0.5, 'No. of Defaulters')"
      ]
     },
     "execution_count": 83,
     "metadata": {},
     "output_type": "execute_result"
    },
    {
     "data": {
      "image/png": "[encoded data removed]",
      "text/plain": [
       "<Figure size 432x288 with 1 Axes>"
      ]
     },
     "metadata": {
      "needs_background": "light"
     },
     "output_type": "display_data"
    }
   ],
   "source": [
    "plt.hist(Cleaned_data[Cleaned_data['Defaulters']==True].purpose)\n",
    "plt.title('Purpose for Loan')\n",
    "plt.xlabel('Purpose')\n",
    "plt.ylabel('No. of Defaulters')"
   ]
  },
  {
   "cell_type": "markdown",
   "id": "ec8d2d89",
   "metadata": {},
   "source": [
    "##### If the purpose of loan is debt consolidation then its most like the borrower will default."
   ]
  },
  {
   "cell_type": "markdown",
   "id": "bb408278",
   "metadata": {},
   "source": [
    "##### Process 'zip_code' column"
   ]
  },
  {
   "cell_type": "code",
   "execution_count": 60,
   "id": "5f8d89b1",
   "metadata": {},
   "outputs": [
    {
     "name": "stdout",
     "output_type": "stream",
     "text": [
      "Data types of zip_code: object\n",
      "nullvalues in zip_code: 0\n",
      "Statistics of column zip_code:\n",
      " count     37477\n",
      "unique      822\n",
      "top       100xx\n",
      "freq        566\n",
      "Name: zip_code, dtype: object\n",
      "Value count of column zip_code: \n",
      "945xx    76\n",
      "331xx    69\n",
      "917xx    68\n",
      "926xx    64\n",
      "100xx    64\n",
      "891xx    63\n",
      "070xx    62\n",
      "900xx    61\n",
      "112xx    61\n",
      "300xx    50\n",
      "921xx    49\n",
      "117xx    48\n",
      "913xx    47\n",
      "330xx    46\n",
      "606xx    46\n",
      "770xx    44\n",
      "925xx    44\n",
      "852xx    42\n",
      "113xx    41\n",
      "080xx    40\n",
      "301xx    37\n",
      "207xx    34\n",
      "021xx    34\n",
      "334xx    34\n",
      "928xx    33\n",
      "902xx    33\n",
      "333xx    33\n",
      "956xx    32\n",
      "923xx    31\n",
      "935xx    31\n",
      "940xx    31\n",
      "890xx    30\n",
      "750xx    29\n",
      "951xx    29\n",
      "941xx    29\n",
      "600xx    28\n",
      "907xx    27\n",
      "920xx    27\n",
      "604xx    27\n",
      "980xx    27\n",
      "212xx    26\n",
      "303xx    26\n",
      "302xx    26\n",
      "641xx    26\n",
      "906xx    25\n",
      "327xx    24\n",
      "328xx    23\n",
      "800xx    23\n",
      "850xx    22\n",
      "088xx    22\n",
      "104xx    22\n",
      "601xx    21\n",
      "930xx    21\n",
      "981xx    21\n",
      "773xx    21\n",
      "919xx    21\n",
      "554xx    20\n",
      "191xx    20\n",
      "325xx    20\n",
      "208xx    20\n",
      "064xx    20\n",
      "347xx    20\n",
      "028xx    19\n",
      "336xx    19\n",
      "076xx    19\n",
      "967xx    19\n",
      "958xx    19\n",
      "018xx    18\n",
      "840xx    18\n",
      "210xx    18\n",
      "871xx    18\n",
      "922xx    18\n",
      "786xx    18\n",
      "060xx    18\n",
      "103xx    18\n",
      "481xx    17\n",
      "953xx    17\n",
      "605xx    17\n",
      "972xx    16\n",
      "114xx    16\n",
      "335xx    16\n",
      "857xx    16\n",
      "322xx    16\n",
      "950xx    16\n",
      "553xx    16\n",
      "190xx    16\n",
      "346xx    16\n",
      "201xx    16\n",
      "912xx    16\n",
      "349xx    15\n",
      "329xx    15\n",
      "305xx    15\n",
      "959xx    15\n",
      "282xx    15\n",
      "234xx    15\n",
      "337xx    15\n",
      "986xx    15\n",
      "206xx    15\n",
      "631xx    14\n",
      "853xx    14\n",
      "983xx    14\n",
      "342xx    14\n",
      "320xx    14\n",
      "927xx    14\n",
      "480xx    14\n",
      "211xx    14\n",
      "010xx    14\n",
      "109xx    14\n",
      "752xx    14\n",
      "275xx    14\n",
      "984xx    14\n",
      "432xx    14\n",
      "551xx    14\n",
      "802xx    14\n",
      "982xx    14\n",
      "296xx    14\n",
      "908xx    13\n",
      "430xx    13\n",
      "087xx    13\n",
      "974xx    13\n",
      "194xx    13\n",
      "027xx    13\n",
      "765xx    13\n",
      "321xx    13\n",
      "082xx    13\n",
      "760xx    13\n",
      "283xx    13\n",
      "633xx    13\n",
      "232xx    13\n",
      "200xx    13\n",
      "130xx    12\n",
      "937xx    12\n",
      "402xx    12\n",
      "775xx    12\n",
      "914xx    12\n",
      "339xx    12\n",
      "483xx    12\n",
      "115xx    12\n",
      "934xx    12\n",
      "774xx    12\n",
      "077xx    12\n",
      "294xx    12\n",
      "762xx    12\n",
      "787xx    12\n",
      "809xx    12\n",
      "705xx    12\n",
      "954xx    11\n",
      "111xx    11\n",
      "338xx    11\n",
      "450xx    11\n",
      "751xx    11\n",
      "180xx    11\n",
      "440xx    11\n",
      "970xx    11\n",
      "223xx    11\n",
      "856xx    11\n",
      "782xx    11\n",
      "640xx    11\n",
      "065xx    11\n",
      "630xx    11\n",
      "019xx    11\n",
      "801xx    10\n",
      "323xx    10\n",
      "957xx    10\n",
      "841xx    10\n",
      "973xx    10\n",
      "441xx    10\n",
      "310xx    10\n",
      "532xx    10\n",
      "023xx    10\n",
      "290xx    10\n",
      "142xx    10\n",
      "189xx    10\n",
      "452xx    10\n",
      "488xx    10\n",
      "078xx    10\n",
      "341xx    10\n",
      "238xx     9\n",
      "015xx     9\n",
      "431xx     9\n",
      "910xx     9\n",
      "946xx     9\n",
      "442xx     9\n",
      "933xx     9\n",
      "285xx     9\n",
      "761xx     9\n",
      "222xx     9\n",
      "971xx     9\n",
      "968xx     9\n",
      "344xx     9\n",
      "150xx     9\n",
      "152xx     9\n",
      "295xx     9\n",
      "085xx     9\n",
      "072xx     9\n",
      "120xx     9\n",
      "071xx     9\n",
      "140xx     8\n",
      "074xx     8\n",
      "020xx     8\n",
      "105xx     8\n",
      "209xx     8\n",
      "193xx     8\n",
      "024xx     8\n",
      "068xx     8\n",
      "106xx     8\n",
      "662xx     8\n",
      "221xx     8\n",
      "146xx     8\n",
      "145xx     8\n",
      "535xx     8\n",
      "484xx     8\n",
      "985xx     8\n",
      "444xx     8\n",
      "708xx     8\n",
      "066xx     8\n",
      "245xx     8\n",
      "276xx     8\n",
      "952xx     8\n",
      "231xx     8\n",
      "559xx     8\n",
      "657xx     7\n",
      "128xx     7\n",
      "805xx     7\n",
      "075xx     7\n",
      "272xx     7\n",
      "217xx     7\n",
      "014xx     7\n",
      "916xx     7\n",
      "530xx     7\n",
      "741xx     7\n",
      "446xx     7\n",
      "278xx     7\n",
      "061xx     7\n",
      "240xx     7\n",
      "073xx     7\n",
      "026xx     7\n",
      "067xx     7\n",
      "949xx     7\n",
      "924xx     7\n",
      "482xx     7\n",
      "607xx     7\n",
      "799xx     7\n",
      "119xx     7\n",
      "030xx     7\n",
      "550xx     7\n",
      "730xx     7\n",
      "326xx     6\n",
      "863xx     6\n",
      "306xx     6\n",
      "905xx     6\n",
      "220xx     6\n",
      "816xx     6\n",
      "316xx     6\n",
      "960xx     6\n",
      "226xx     6\n",
      "083xx     6\n",
      "308xx     6\n",
      "932xx     6\n",
      "531xx     6\n",
      "724xx     6\n",
      "236xx     6\n",
      "711xx     6\n",
      "029xx     6\n",
      "740xx     6\n",
      "490xx     6\n",
      "731xx     6\n",
      "148xx     6\n",
      "063xx     6\n",
      "895xx     6\n",
      "038xx     6\n",
      "931xx     6\n",
      "727xx     6\n",
      "144xx     6\n",
      "611xx     5\n",
      "495xx     5\n",
      "121xx     5\n",
      "153xx     5\n",
      "939xx     5\n",
      "224xx     5\n",
      "660xx     5\n",
      "314xx     5\n",
      "286xx     5\n",
      "081xx     5\n",
      "244xx     5\n",
      "361xx     5\n",
      "746xx     5\n",
      "808xx     5\n",
      "125xx     5\n",
      "031xx     5\n",
      "992xx     5\n",
      "274xx     5\n",
      "216xx     5\n",
      "754xx     5\n",
      "658xx     5\n",
      "549xx     5\n",
      "086xx     5\n",
      "352xx     5\n",
      "997xx     5\n",
      "561xx     5\n",
      "672xx     5\n",
      "454xx     5\n",
      "062xx     5\n",
      "447xx     5\n",
      "700xx     5\n",
      "410xx     5\n",
      "199xx     5\n",
      "350xx     5\n",
      "132xx     5\n",
      "701xx     5\n",
      "292xx     5\n",
      "904xx     5\n",
      "324xx     5\n",
      "108xx     5\n",
      "354xx     5\n",
      "107xx     5\n",
      "995xx     5\n",
      "534xx     5\n",
      "597xx     5\n",
      "936xx     5\n",
      "719xx     5\n",
      "744xx     5\n",
      "229xx     5\n",
      "955xx     4\n",
      "284xx     4\n",
      "571xx     4\n",
      "168xx     4\n",
      "915xx     4\n",
      "360xx     4\n",
      "265xx     4\n",
      "280xx     4\n",
      "230xx     4\n",
      "537xx     4\n",
      "628xx     4\n",
      "975xx     4\n",
      "147xx     4\n",
      "158xx     4\n",
      "173xx     4\n",
      "017xx     4\n",
      "570xx     4\n",
      "851xx     4\n",
      "778xx     4\n",
      "197xx     4\n",
      "648xx     4\n",
      "177xx     4\n",
      "443xx     4\n",
      "806xx     4\n",
      "134xx     4\n",
      "439xx     4\n",
      "766xx     4\n",
      "273xx     4\n",
      "703xx     4\n",
      "880xx     4\n",
      "079xx     4\n",
      "400xx     4\n",
      "281xx     4\n",
      "757xx     4\n",
      "089xx     4\n",
      "363xx     4\n",
      "707xx     4\n",
      "451xx     4\n",
      "161xx     4\n",
      "187xx     4\n",
      "608xx     4\n",
      "129xx     4\n",
      "178xx     3\n",
      "253xx     3\n",
      "358xx     3\n",
      "489xx     3\n",
      "235xx     3\n",
      "496xx     3\n",
      "309xx     3\n",
      "704xx     3\n",
      "610xx     3\n",
      "124xx     3\n",
      "315xx     3\n",
      "405xx     3\n",
      "626xx     3\n",
      "156xx     3\n",
      "844xx     3\n",
      "619xx     3\n",
      "254xx     3\n",
      "977xx     3\n",
      "655xx     3\n",
      "785xx     3\n",
      "225xx     3\n",
      "436xx     3\n",
      "351xx     3\n",
      "288xx     3\n",
      "494xx     3\n",
      "903xx     3\n",
      "864xx     3\n",
      "497xx     3\n",
      "544xx     3\n",
      "013xx     3\n",
      "151xx     3\n",
      "304xx     3\n",
      "317xx     3\n",
      "154xx     3\n",
      "312xx     3\n",
      "054xx     3\n",
      "228xx     3\n",
      "122xx     3\n",
      "365xx     3\n",
      "546xx     3\n",
      "894xx     3\n",
      "181xx     3\n",
      "961xx     3\n",
      "897xx     3\n",
      "780xx     3\n",
      "025xx     3\n",
      "366xx     3\n",
      "271xx     3\n",
      "883xx     3\n",
      "293xx     3\n",
      "101xx     3\n",
      "198xx     3\n",
      "763xx     3\n",
      "137xx     3\n",
      "243xx     3\n",
      "453xx     3\n",
      "445xx     3\n",
      "797xx     3\n",
      "215xx     3\n",
      "287xx     3\n",
      "847xx     3\n",
      "803xx     3\n",
      "860xx     3\n",
      "622xx     3\n",
      "613xx     2\n",
      "438xx     2\n",
      "541xx     2\n",
      "540xx     2\n",
      "127xx     2\n",
      "165xx     2\n",
      "664xx     2\n",
      "790xx     2\n",
      "037xx     2\n",
      "182xx     2\n",
      "560xx     2\n",
      "666xx     2\n",
      "598xx     2\n",
      "270xx     2\n",
      "667xx     2\n",
      "948xx     2\n",
      "170xx     2\n",
      "183xx     2\n",
      "725xx     2\n",
      "299xx     2\n",
      "796xx     2\n",
      "135xx     2\n",
      "174xx     2\n",
      "791xx     2\n",
      "794xx     2\n",
      "918xx     2\n",
      "870xx     2\n",
      "184xx     2\n",
      "110xx     2\n",
      "784xx     2\n",
      "404xx     2\n",
      "298xx     2\n",
      "499xx     2\n",
      "781xx     2\n",
      "573xx     2\n",
      "755xx     2\n",
      "422xx     2\n",
      "242xx     2\n",
      "359xx     2\n",
      "179xx     2\n",
      "612xx     2\n",
      "175xx     2\n",
      "720xx     2\n",
      "713xx     2\n",
      "186xx     2\n",
      "126xx     2\n",
      "279xx     2\n",
      "264xx     2\n",
      "261xx     2\n",
      "543xx     2\n",
      "993xx     2\n",
      "815xx     2\n",
      "141xx     2\n",
      "616xx     2\n",
      "639xx     2\n",
      "368xx     2\n",
      "737xx     2\n",
      "319xx     2\n",
      "458xx     2\n",
      "652xx     2\n",
      "991xx     2\n",
      "492xx     2\n",
      "846xx     2\n",
      "756xx     2\n",
      "116xx     2\n",
      "133xx     2\n",
      "685xx     2\n",
      "255xx     2\n",
      "172xx     2\n",
      "313xx     2\n",
      "614xx     2\n",
      "547xx     2\n",
      "171xx     2\n",
      "996xx     2\n",
      "557xx     2\n",
      "233xx     2\n",
      "136xx     2\n",
      "656xx     2\n",
      "810xx     2\n",
      "615xx     2\n",
      "291xx     2\n",
      "094xx     2\n",
      "779xx     2\n",
      "498xx     2\n",
      "976xx     2\n",
      "425xx     2\n",
      "416xx     2\n",
      "629xx     1\n",
      "729xx     1\n",
      "012xx     1\n",
      "591xx     1\n",
      "990xx     1\n",
      "944xx     1\n",
      "654xx     1\n",
      "645xx     1\n",
      "407xx     1\n",
      "603xx     1\n",
      "558xx     1\n",
      "735xx     1\n",
      "155xx     1\n",
      "259xx     1\n",
      "706xx     1\n",
      "032xx     1\n",
      "355xx     1\n",
      "364xx     1\n",
      "620xx     1\n",
      "843xx     1\n",
      "257xx     1\n",
      "011xx     1\n",
      "874xx     1\n",
      "593xx     1\n",
      "456xx     1\n",
      "594xx     1\n",
      "718xx     1\n",
      "268xx     1\n",
      "636xx     1\n",
      "403xx     1\n",
      "307xx     1\n",
      "638xx     1\n",
      "435xx     1\n",
      "618xx     1\n",
      "617xx     1\n",
      "999xx     1\n",
      "811xx     1\n",
      "159xx     1\n",
      "016xx     1\n",
      "241xx     1\n",
      "486xx     1\n",
      "118xx     1\n",
      "485xx     1\n",
      "577xx     1\n",
      "392xx     1\n",
      "637xx     1\n",
      "394xx     1\n",
      "798xx     1\n",
      "689xx     1\n",
      "421xx     1\n",
      "034xx     1\n",
      "807xx     1\n",
      "599xx     1\n",
      "947xx     1\n",
      "157xx     1\n",
      "297xx     1\n",
      "767xx     1\n",
      "793xx     1\n",
      "668xx     1\n",
      "673xx     1\n",
      "084xx     1\n",
      "131xx     1\n",
      "833xx     1\n",
      "663xx     1\n",
      "258xx     1\n",
      "572xx     1\n",
      "195xx     1\n",
      "123xx     1\n",
      "826xx     1\n",
      "371xx     1\n",
      "539xx     1\n",
      "634xx     1\n",
      "069xx     1\n",
      "143xx     1\n",
      "356xx     1\n",
      "203xx     1\n",
      "548xx     1\n",
      "650xx     1\n",
      "669xx     1\n",
      "056xx     1\n",
      "545xx     1\n",
      "434xx     1\n",
      "437xx     1\n",
      "367xx     1\n",
      "318xx     1\n",
      "277xx     1\n",
      "716xx     1\n",
      "795xx     1\n",
      "710xx     1\n",
      "745xx     1\n",
      "671xx     1\n",
      "376xx     1\n",
      "882xx     1\n",
      "409xx     1\n",
      "424xx     1\n",
      "449xx     1\n",
      "804xx     1\n",
      "562xx     1\n",
      "758xx     1\n",
      "373xx     1\n",
      "859xx     1\n",
      "764xx     1\n",
      "411xx     1\n",
      "875xx     1\n",
      "227xx     1\n",
      "564xx     1\n",
      "487xx     1\n",
      "717xx     1\n",
      "166xx     1\n",
      "759xx     1\n",
      "053xx     1\n",
      "160xx     1\n",
      "427xx     1\n",
      "401xx     1\n",
      "420xx     1\n",
      "812xx     1\n",
      "050xx     1\n",
      "829xx     1\n",
      "214xx     1\n",
      "448xx     1\n",
      "651xx     1\n",
      "911xx     1\n",
      "989xx     1\n",
      "164xx     1\n",
      "406xx     1\n",
      "413xx     1\n",
      "635xx     1\n",
      "820xx     1\n",
      "783xx     1\n",
      "563xx     1\n",
      "722xx     1\n",
      "163xx     1\n",
      "362xx     1\n",
      "035xx     1\n",
      "675xx     1\n",
      "176xx     1\n",
      "219xx     1\n",
      "385xx     1\n",
      "670xx     1\n",
      "357xx     1\n",
      "721xx     1\n",
      "370xx     1\n",
      "714xx     1\n",
      "625xx     1\n",
      "457xx     1\n",
      "218xx     1\n",
      "Name: zip_code, dtype: int64\n"
     ]
    }
   ],
   "source": [
    "#check the type of column,nullvalues and mode and outlier\n",
    "print(f'Data types of zip_code: {Cleaned_data.zip_code.dtypes}')\n",
    "print(f'nullvalues in zip_code: {Cleaned_data.zip_code.isnull().sum()}')\n",
    "print(f'Statistics of column zip_code:\\n {Cleaned_data.zip_code.describe()}')\n",
    "print(f'Value count of column zip_code: \\n{ Cleaned_data[Cleaned_data.Defaulters==True].zip_code.value_counts()}')"
   ]
  },
  {
   "cell_type": "code",
   "execution_count": 61,
   "id": "d28a5332",
   "metadata": {},
   "outputs": [],
   "source": [
    "# ENcode and categories the zip code data\n",
    "#here lambda function is used to remove 'xx' in zip code and encode the data for further processing\n",
    "Cleaned_data['cat_zip_code']=Cleaned_data.zip_code.apply(lambda x: int(str(x)[0:3])//50)"
   ]
  },
  {
   "cell_type": "code",
   "execution_count": 84,
   "id": "656f0dec",
   "metadata": {},
   "outputs": [
    {
     "data": {
      "text/plain": [
       "Text(0, 0.5, 'No. of Defaulters')"
      ]
     },
     "execution_count": 84,
     "metadata": {},
     "output_type": "execute_result"
    },
    {
     "data": {
      "image/png": "[encoded data removed]",
      "text/plain": [
       "<Figure size 432x288 with 1 Axes>"
      ]
     },
     "metadata": {
      "needs_background": "light"
     },
     "output_type": "display_data"
    }
   ],
   "source": [
    "plt.hist(Cleaned_data[Cleaned_data['Defaulters']== True].cat_zip_code,width=1)\n",
    "plt.title('Zip Code or Area')\n",
    "plt.xlabel('Zip Code encoded')\n",
    "plt.ylabel('No. of Defaulters')"
   ]
  },
  {
   "cell_type": "code",
   "execution_count": 63,
   "id": "191559e1",
   "metadata": {},
   "outputs": [
    {
     "name": "stdout",
     "output_type": "stream",
     "text": [
      "Highest Defaulters are from zip code :875xx\n"
     ]
    }
   ],
   "source": [
    "Highest_defaulters_zip_code=17.5*50\n",
    "print(f'Highest Defaulters are from zip code :{int(Highest_defaulters_zip_code)}xx')"
   ]
  },
  {
   "cell_type": "markdown",
   "id": "0a0478d6",
   "metadata": {},
   "source": [
    "##### Borrowers from zip code 875xx are most likely to default"
   ]
  },
  {
   "cell_type": "markdown",
   "id": "84aa8b6a",
   "metadata": {},
   "source": [
    "#### Process 'addr_state' column"
   ]
  },
  {
   "cell_type": "code",
   "execution_count": 64,
   "id": "bb3724a6",
   "metadata": {},
   "outputs": [
    {
     "name": "stdout",
     "output_type": "stream",
     "text": [
      "Data types of addr_state: object\n",
      "nullvalues in addr_state: 0\n",
      "Statistics of column addr_state:\n",
      " count     37477\n",
      "unique       50\n",
      "top          CA\n",
      "freq       6762\n",
      "Name: addr_state, dtype: object\n",
      "Value count of column addr_state: \n",
      "CA    1080\n",
      "FL     484\n",
      "NY     475\n",
      "TX     295\n",
      "NJ     265\n",
      "GA     208\n",
      "IL     187\n",
      "PA     172\n",
      "VA     161\n",
      "MA     153\n",
      "MD     153\n",
      "OH     144\n",
      "WA     124\n",
      "AZ     123\n",
      "MO     111\n",
      "NC     110\n",
      "NV     105\n",
      "MI     100\n",
      "CO      92\n",
      "CT      91\n",
      "MN      78\n",
      "OR      68\n",
      "SC      62\n",
      "WI      62\n",
      "LA      51\n",
      "AL      49\n",
      "KY      43\n",
      "OK      40\n",
      "UT      37\n",
      "NM      30\n",
      "KS      29\n",
      "HI      28\n",
      "AR      27\n",
      "RI      25\n",
      "NH      23\n",
      "WV      20\n",
      "AK      14\n",
      "DC      13\n",
      "DE      12\n",
      "SD      12\n",
      "MT      11\n",
      "VT       6\n",
      "NE       3\n",
      "WY       3\n",
      "TN       2\n",
      "MS       2\n",
      "ID       1\n",
      "Name: addr_state, dtype: int64\n"
     ]
    }
   ],
   "source": [
    "#check the type of column,nullvalues and mode and outlier\n",
    "print(f'Data types of addr_state: {Cleaned_data.addr_state.dtypes}')\n",
    "print(f'nullvalues in addr_state: {Cleaned_data.addr_state.isnull().sum()}')\n",
    "print(f'Statistics of column addr_state:\\n {Cleaned_data.addr_state.describe()}')\n",
    "print(f'Value count of column addr_state: \\n{ Cleaned_data[Cleaned_data.Defaulters==True].addr_state.value_counts()}')"
   ]
  },
  {
   "cell_type": "markdown",
   "id": "23133ce2",
   "metadata": {},
   "source": [
    "##### from the value count, we can infer most of the defaulters are from CA"
   ]
  },
  {
   "cell_type": "markdown",
   "id": "d8952db5",
   "metadata": {},
   "source": [
    "#### Process 'dti' column"
   ]
  },
  {
   "cell_type": "code",
   "execution_count": 65,
   "id": "52c6c98a",
   "metadata": {},
   "outputs": [
    {
     "name": "stdout",
     "output_type": "stream",
     "text": [
      "Data types of dti: float64\n",
      "nullvalues in dti: 0\n",
      "Statistics of column dti:\n",
      " count    37477.000000\n",
      "mean        13.263832\n",
      "std          6.678134\n",
      "min          0.000000\n",
      "25%          8.110000\n",
      "50%         13.350000\n",
      "75%         18.560000\n",
      "max         29.990000\n",
      "Name: dti, dtype: float64\n",
      "Value count of column dti: \n",
      "0.00     29\n",
      "18.00    12\n",
      "9.50      9\n",
      "19.20     9\n",
      "12.48     9\n",
      "         ..\n",
      "24.60     1\n",
      "9.06      1\n",
      "5.37      1\n",
      "10.65     1\n",
      "28.37     1\n",
      "Name: dti, Length: 2188, dtype: int64\n"
     ]
    }
   ],
   "source": [
    "#check the type of column,nullvalues and mode and outlier\n",
    "print(f'Data types of dti: {Cleaned_data.dti.dtypes}')\n",
    "print(f'nullvalues in dti: {Cleaned_data.dti.isnull().sum()}')\n",
    "print(f'Statistics of column dti:\\n {Cleaned_data.dti.describe()}')\n",
    "print(f'Value count of column dti: \\n{ Cleaned_data[Cleaned_data.Defaulters==True].dti.value_counts()}')"
   ]
  },
  {
   "cell_type": "code",
   "execution_count": 66,
   "id": "94c3d23b",
   "metadata": {},
   "outputs": [
    {
     "name": "stdout",
     "output_type": "stream",
     "text": [
      "Value count of column dti after removing outlier 0: \n",
      "18.00    12\n",
      "12.48     9\n",
      "9.50      9\n",
      "19.20     9\n",
      "19.90     8\n",
      "         ..\n",
      "24.60     1\n",
      "9.06      1\n",
      "5.37      1\n",
      "10.65     1\n",
      "28.37     1\n",
      "Name: dti, Length: 2187, dtype: int64\n"
     ]
    }
   ],
   "source": [
    "#dti of zero doesn't make sense. SO treating 0 as outlier.\n",
    "temp=Cleaned_data.copy()\n",
    "temp.drop(temp[temp['dti']== 0].index,inplace=True)\n",
    "print(f'Value count of column dti after removing outlier 0: \\n{ temp[temp.Defaulters==True].dti.value_counts()}')"
   ]
  },
  {
   "cell_type": "code",
   "execution_count": 85,
   "id": "76b2126d",
   "metadata": {},
   "outputs": [
    {
     "data": {
      "text/plain": [
       "Text(0, 0.5, 'No. of Defaulters')"
      ]
     },
     "execution_count": 85,
     "metadata": {},
     "output_type": "execute_result"
    },
    {
     "data": {
      "image/png": "[encoded data removed]",
      "text/plain": [
       "<Figure size 432x288 with 1 Axes>"
      ]
     },
     "metadata": {
      "needs_background": "light"
     },
     "output_type": "display_data"
    }
   ],
   "source": [
    "# Encode the dti for further processing.So dti is categoried in 10 categories\n",
    "temp['cat_dti']=temp.dti.apply(lambda x: x//3)\n",
    "Cleaned_data['cat_dti']=temp.cat_dti\n",
    "plt.hist(temp[temp['Defaulters']==True].dti)\n",
    "plt.title('DTI ')\n",
    "plt.xlabel('DTI %')\n",
    "plt.ylabel('No. of Defaulters')"
   ]
  },
  {
   "cell_type": "code",
   "execution_count": 68,
   "id": "f740696d",
   "metadata": {},
   "outputs": [
    {
     "name": "stdout",
     "output_type": "stream",
     "text": [
      "-0.1567739597082953\n",
      "Statistics of column dti:\n",
      " count    5355.000000\n",
      "mean       14.055699\n",
      "std         6.541265\n",
      "min         0.010000\n",
      "25%         9.115000\n",
      "50%        14.320000\n",
      "75%        19.325000\n",
      "max        29.850000\n",
      "Name: dti, dtype: float64\n"
     ]
    }
   ],
   "source": [
    "print(skew(temp[temp['Defaulters']==True].dti))\n",
    "print(f'Statistics of column dti:\\n {temp[temp.Defaulters==True].dti.describe()}')\n"
   ]
  },
  {
   "cell_type": "markdown",
   "id": "450ffc47",
   "metadata": {},
   "source": [
    "##### Distribution of DTI is slightly left skewed, however DTI of around 14 are most likely to default"
   ]
  },
  {
   "cell_type": "markdown",
   "id": "25cebd22",
   "metadata": {},
   "source": [
    "##### Process 'Delinq_2yrs ' column"
   ]
  },
  {
   "cell_type": "code",
   "execution_count": 69,
   "id": "ed14ed5f",
   "metadata": {},
   "outputs": [
    {
     "name": "stdout",
     "output_type": "stream",
     "text": [
      "Data types of Delinq_2yrs: int64\n",
      "nullvalues in Delinq_2yrs: 0\n",
      "Statistics of column Delinq_2yrs:\n",
      " count    37477.000000\n",
      "mean         0.146650\n",
      "std          0.492987\n",
      "min          0.000000\n",
      "25%          0.000000\n",
      "50%          0.000000\n",
      "75%          0.000000\n",
      "max         11.000000\n",
      "Name: delinq_2yrs, dtype: float64\n",
      "Value count of column Delinq_2yrs: \n",
      "0    4731\n",
      "1     480\n",
      "2     121\n",
      "3      34\n",
      "4      12\n",
      "5       3\n",
      "8       1\n",
      "6       1\n",
      "7       1\n",
      "Name: delinq_2yrs, dtype: int64\n"
     ]
    }
   ],
   "source": [
    "#check the type of column,nullvalues and mode and outlier\n",
    "print(f'Data types of Delinq_2yrs: {Cleaned_data.delinq_2yrs.dtypes}')\n",
    "print(f'nullvalues in Delinq_2yrs: {Cleaned_data.delinq_2yrs.isnull().sum()}')\n",
    "print(f'Statistics of column Delinq_2yrs:\\n {Cleaned_data.delinq_2yrs.describe()}')\n",
    "print(f'Value count of column Delinq_2yrs: \\n{ Cleaned_data[Cleaned_data.Defaulters==True].delinq_2yrs.value_counts()}')"
   ]
  },
  {
   "cell_type": "code",
   "execution_count": 70,
   "id": "0dd54275",
   "metadata": {},
   "outputs": [
    {
     "data": {
      "text/plain": [
       "1    480\n",
       "2    121\n",
       "3     34\n",
       "4     12\n",
       "5      3\n",
       "6      1\n",
       "7      1\n",
       "8      1\n",
       "Name: delinq_2yrs, dtype: int64"
      ]
     },
     "execution_count": 70,
     "metadata": {},
     "output_type": "execute_result"
    }
   ],
   "source": [
    "#no. of zero is redundant so removing 0 and then finding the relation\n",
    "temp=Cleaned_data.copy()\n",
    "temp.drop(temp[(temp['delinq_2yrs']==0) & (temp['Defaulters']==True)].index,inplace=True)\n",
    "temp[temp['Defaulters']==True].delinq_2yrs.value_counts()"
   ]
  },
  {
   "cell_type": "code",
   "execution_count": 86,
   "id": "db946b7c",
   "metadata": {},
   "outputs": [
    {
     "data": {
      "text/plain": [
       "Text(0, 0.5, 'No. of Defaulters')"
      ]
     },
     "execution_count": 86,
     "metadata": {},
     "output_type": "execute_result"
    },
    {
     "data": {
      "image/png": "[encoded data removed]",
      "text/plain": [
       "<Figure size 432x288 with 1 Axes>"
      ]
     },
     "metadata": {
      "needs_background": "light"
     },
     "output_type": "display_data"
    }
   ],
   "source": [
    "plt.hist(temp[temp['Defaulters']==True].delinq_2yrs)\n",
    "plt.title('Delinq last 2 years ')\n",
    "plt.xlabel('Delinq count')\n",
    "plt.ylabel('No. of Defaulters')"
   ]
  },
  {
   "cell_type": "markdown",
   "id": "54ad1dbe",
   "metadata": {},
   "source": [
    "##### Person who has delinq for past two years only once have defaulted.However this can't be the key indicators"
   ]
  },
  {
   "cell_type": "markdown",
   "id": "e8be52a7",
   "metadata": {},
   "source": [
    "##### Process 'inq_last_6mths' column"
   ]
  },
  {
   "cell_type": "code",
   "execution_count": 72,
   "id": "88d68f04",
   "metadata": {},
   "outputs": [
    {
     "name": "stdout",
     "output_type": "stream",
     "text": [
      "Data types of Delinq_2yrs: int64\n",
      "nullvalues in Delinq_2yrs: 0\n",
      "Statistics of column Delinq_2yrs:\n",
      " count    37477.000000\n",
      "mean         0.868506\n",
      "std          1.066925\n",
      "min          0.000000\n",
      "25%          0.000000\n",
      "50%          1.000000\n",
      "75%          1.000000\n",
      "max          8.000000\n",
      "Name: inq_last_6mths, dtype: float64\n",
      "Value count of column Delinq_2yrs: \n",
      "0    2188\n",
      "1    1598\n",
      "2     907\n",
      "3     592\n",
      "4      47\n",
      "5      25\n",
      "6      15\n",
      "7       9\n",
      "8       3\n",
      "Name: inq_last_6mths, dtype: int64\n"
     ]
    }
   ],
   "source": [
    "#check the type of column,nullvalues and mode and outlier\n",
    "print(f'Data types of Delinq_2yrs: {Cleaned_data.inq_last_6mths.dtypes}')\n",
    "print(f'nullvalues in Delinq_2yrs: {Cleaned_data.inq_last_6mths.isnull().sum()}')\n",
    "print(f'Statistics of column Delinq_2yrs:\\n {Cleaned_data.inq_last_6mths.describe()}')\n",
    "print(f'Value count of column Delinq_2yrs: \\n{ Cleaned_data[Cleaned_data.Defaulters==True].inq_last_6mths.value_counts()}')"
   ]
  },
  {
   "cell_type": "markdown",
   "id": "749d6bd4",
   "metadata": {},
   "source": [
    " ##### People who don't enquire about mortgage tend to be defaulters. THis too can't be the key indicator"
   ]
  },
  {
   "cell_type": "markdown",
   "id": "80ac1cb5",
   "metadata": {},
   "source": [
    "##### Process Column 'mths_since_last_record' and 'mths_since_last_delinq'"
   ]
  },
  {
   "cell_type": "code",
   "execution_count": 73,
   "id": "6ed17511",
   "metadata": {},
   "outputs": [],
   "source": [
    "####Both the variables can be ignored as these are redundant column"
   ]
  },
  {
   "cell_type": "markdown",
   "id": "f27f79db",
   "metadata": {},
   "source": [
    "##### Process Column 'Open Acc'"
   ]
  },
  {
   "cell_type": "code",
   "execution_count": null,
   "id": "59d5425d",
   "metadata": {},
   "outputs": [],
   "source": []
  },
  {
   "cell_type": "code",
   "execution_count": 74,
   "id": "8e79c2da",
   "metadata": {},
   "outputs": [
    {
     "name": "stdout",
     "output_type": "stream",
     "text": [
      "Data types of open_acc: int64\n",
      "nullvalues in open_acc: 0\n",
      "Statistics of column open_acc:\n",
      " count    37477.000000\n",
      "mean         9.231182\n",
      "std          4.388072\n",
      "min          2.000000\n",
      "25%          6.000000\n",
      "50%          9.000000\n",
      "75%         12.000000\n",
      "max         44.000000\n",
      "Name: open_acc, dtype: float64\n",
      "Value count of column open_acc: \n",
      "7     535\n",
      "8     528\n",
      "6     525\n",
      "9     494\n",
      "10    442\n",
      "5     417\n",
      "11    366\n",
      "4     351\n",
      "12    287\n",
      "13    250\n",
      "3     249\n",
      "14    209\n",
      "15    156\n",
      "2     123\n",
      "16     96\n",
      "17     92\n",
      "18     65\n",
      "19     52\n",
      "20     40\n",
      "21     36\n",
      "22     18\n",
      "23     11\n",
      "24      9\n",
      "25      9\n",
      "26      5\n",
      "28      4\n",
      "30      3\n",
      "27      3\n",
      "31      3\n",
      "33      2\n",
      "38      1\n",
      "34      1\n",
      "29      1\n",
      "35      1\n",
      "Name: open_acc, dtype: int64\n"
     ]
    }
   ],
   "source": [
    "#check the type of column,nullvalues and mode and outlier\n",
    "print(f'Data types of open_acc: {Cleaned_data.open_acc.dtypes}')\n",
    "print(f'nullvalues in open_acc: {Cleaned_data.open_acc.isnull().sum()}')\n",
    "print(f'Statistics of column open_acc:\\n {Cleaned_data.open_acc.describe()}')\n",
    "print(f'Value count of column open_acc: \\n{ Cleaned_data[Cleaned_data.Defaulters==True].open_acc.value_counts()}')"
   ]
  },
  {
   "cell_type": "code",
   "execution_count": 87,
   "id": "d40d7455",
   "metadata": {},
   "outputs": [
    {
     "data": {
      "text/plain": [
       "Text(0, 0.5, 'No. of Defaulters')"
      ]
     },
     "execution_count": 87,
     "metadata": {},
     "output_type": "execute_result"
    },
    {
     "data": {
      "image/png": "[encoded data removed]",
      "text/plain": [
       "<Figure size 432x288 with 1 Axes>"
      ]
     },
     "metadata": {
      "needs_background": "light"
     },
     "output_type": "display_data"
    }
   ],
   "source": [
    "plt.hist(Cleaned_data[Cleaned_data.Defaulters==True].open_acc)\n",
    "plt.title('No. of active Loan account ')\n",
    "plt.xlabel('No of account')\n",
    "plt.ylabel('No. of Defaulters')"
   ]
  },
  {
   "cell_type": "markdown",
   "id": "aefb5048",
   "metadata": {},
   "source": [
    "##### people who has open 5 to 10 open credit account in thier name, they are most likely to default in future "
   ]
  },
  {
   "cell_type": "markdown",
   "id": "38d18bd7",
   "metadata": {},
   "source": [
    "##### Process Column 'pub_rec:derogatory public records' "
   ]
  },
  {
   "cell_type": "code",
   "execution_count": 76,
   "id": "354a03ca",
   "metadata": {},
   "outputs": [
    {
     "name": "stdout",
     "output_type": "stream",
     "text": [
      "Data types of pub_rec: int64\n",
      "nullvalues in pub_rec: 0\n",
      "Statistics of column pub_rec:\n",
      " count    37477.000000\n",
      "mean         0.056248\n",
      "std          0.239489\n",
      "min          0.000000\n",
      "25%          0.000000\n",
      "50%          0.000000\n",
      "75%          0.000000\n",
      "max          4.000000\n",
      "Name: pub_rec, dtype: float64\n",
      "Value count of column pub_rec: \n",
      "0    4929\n",
      "1     445\n",
      "2      10\n",
      "Name: pub_rec, dtype: int64\n"
     ]
    }
   ],
   "source": [
    "#check the type of column,nullvalues and mode and outlier\n",
    "print(f'Data types of pub_rec: {Cleaned_data.pub_rec.dtypes}')\n",
    "print(f'nullvalues in pub_rec: {Cleaned_data.pub_rec.isnull().sum()}')\n",
    "print(f'Statistics of column pub_rec:\\n {Cleaned_data.pub_rec.describe()}')\n",
    "print(f'Value count of column pub_rec: \\n{ Cleaned_data[Cleaned_data.Defaulters==True].pub_rec.value_counts()}')"
   ]
  },
  {
   "cell_type": "markdown",
   "id": "a8646702",
   "metadata": {},
   "source": [
    "##### Surprisingly, who don't have derogatory records are more likely to default"
   ]
  },
  {
   "cell_type": "markdown",
   "id": "62f044bd",
   "metadata": {},
   "source": [
    "##### Process revol_bal column"
   ]
  },
  {
   "cell_type": "code",
   "execution_count": 77,
   "id": "2202dbcc",
   "metadata": {},
   "outputs": [
    {
     "name": "stdout",
     "output_type": "stream",
     "text": [
      "Data types of revol_bal: int64\n",
      "nullvalues in revol_bal: 0\n",
      "Statistics of column pub_rec:\n",
      " count     37477.000000\n",
      "mean      12933.262054\n",
      "std       15450.204535\n",
      "min           0.000000\n",
      "25%        3590.000000\n",
      "50%        8576.000000\n",
      "75%       16466.000000\n",
      "max      149527.000000\n",
      "Name: revol_bal, dtype: float64\n",
      "Value count of column pub_rec: \n",
      "0        153\n",
      "10659      3\n",
      "2766       3\n",
      "13521      3\n",
      "980        3\n",
      "        ... \n",
      "15214      1\n",
      "9073       1\n",
      "15218      1\n",
      "30372      1\n",
      "24572      1\n",
      "Name: revol_bal, Length: 4732, dtype: int64\n"
     ]
    }
   ],
   "source": [
    "#check the type of column,nullvalues and mode and outlier\n",
    "print(f'Data types of revol_bal: {Cleaned_data.revol_bal.dtypes}')\n",
    "print(f'nullvalues in revol_bal: {Cleaned_data.revol_bal.isnull().sum()}')\n",
    "print(f'Statistics of column pub_rec:\\n {Cleaned_data.revol_bal.describe()}')\n",
    "print(f'Value count of column pub_rec: \\n{ Cleaned_data[Cleaned_data.Defaulters==True].revol_bal.value_counts()}')"
   ]
  },
  {
   "cell_type": "code",
   "execution_count": 78,
   "id": "ae8a2be1",
   "metadata": {},
   "outputs": [
    {
     "name": "stdout",
     "output_type": "stream",
     "text": [
      "Value count of column pub_rec: \n",
      "0     2924\n",
      "1     1411\n",
      "2      550\n",
      "3      215\n",
      "4      137\n",
      "5       53\n",
      "6       22\n",
      "7       21\n",
      "8       15\n",
      "9       14\n",
      "10      11\n",
      "13       3\n",
      "14       3\n",
      "11       3\n",
      "12       2\n",
      "Name: cat_revol_bal, dtype: int64\n"
     ]
    }
   ],
   "source": [
    "# Categories the revol_bal data: each points represents amount less than multiple of that points. 0 implies revol amount of less than 10000\n",
    "Cleaned_data['cat_revol_bal']=Cleaned_data.revol_bal.apply(lambda x: x//10000)\n",
    "print(f'Value count of column pub_rec: \\n{ Cleaned_data[Cleaned_data.Defaulters==True].cat_revol_bal.value_counts()}')\n"
   ]
  },
  {
   "cell_type": "markdown",
   "id": "1d14a761",
   "metadata": {},
   "source": [
    "##### Providing revol amount of less than 10000 , those may turn up to be a defaulter. Revolve amount greater than 50k should be given to minimize the numbers of defaulter"
   ]
  },
  {
   "cell_type": "markdown",
   "id": "7a523ca0",
   "metadata": {},
   "source": [
    "##### Process revol_util column"
   ]
  },
  {
   "cell_type": "code",
   "execution_count": 79,
   "id": "d6980c34",
   "metadata": {},
   "outputs": [
    {
     "name": "stdout",
     "output_type": "stream",
     "text": [
      "Data types of revol_util: object\n",
      "nullvalues in revol_util: 50\n",
      "Statistics of column revol_util:\n",
      " count     37427\n",
      "unique     1087\n",
      "top          0%\n",
      "freq        935\n",
      "Name: revol_util, dtype: object\n",
      "Value count of column revol_util: \n",
      "0%        141\n",
      "66.60%     17\n",
      "73.40%     15\n",
      "89.40%     15\n",
      "66.70%     14\n",
      "89.90%     13\n",
      "80.30%     13\n",
      "45.10%     13\n",
      "63.70%     13\n",
      "71.70%     13\n",
      "80.60%     13\n",
      "81.60%     12\n",
      "57.40%     12\n",
      "62.80%     12\n",
      "72.70%     12\n",
      "32%        12\n",
      "98.40%     12\n",
      "94.60%     12\n",
      "77.60%     12\n",
      "57.70%     12\n",
      "66.30%     12\n",
      "75.50%     11\n",
      "85.70%     11\n",
      "48%        11\n",
      "68.50%     11\n",
      "65.60%     11\n",
      "55.50%     11\n",
      "34.40%     11\n",
      "70.80%     11\n",
      "0.20%      11\n",
      "89.50%     11\n",
      "87.60%     11\n",
      "42%        11\n",
      "87.20%     10\n",
      "74.40%     10\n",
      "97.50%     10\n",
      "64.60%     10\n",
      "68.80%     10\n",
      "91.10%     10\n",
      "95.30%     10\n",
      "79.80%     10\n",
      "93.20%     10\n",
      "99.30%     10\n",
      "60.10%     10\n",
      "73.80%     10\n",
      "94.20%     10\n",
      "35.70%     10\n",
      "95%        10\n",
      "48.90%     10\n",
      "90.60%     10\n",
      "93%        10\n",
      "76%        10\n",
      "46.20%     10\n",
      "95.20%     10\n",
      "78.50%     10\n",
      "64.20%     10\n",
      "90.30%     10\n",
      "12.10%     10\n",
      "98.70%     10\n",
      "26.50%     10\n",
      "59.60%     10\n",
      "72.40%     10\n",
      "50.30%     10\n",
      "99%        10\n",
      "52%        10\n",
      "82.60%     10\n",
      "47.40%     10\n",
      "59.30%     10\n",
      "57.90%     10\n",
      "66.80%      9\n",
      "94.90%      9\n",
      "41%         9\n",
      "99.90%      9\n",
      "77.90%      9\n",
      "55.10%      9\n",
      "54.80%      9\n",
      "96%         9\n",
      "96.10%      9\n",
      "41.20%      9\n",
      "59.50%      9\n",
      "35%         9\n",
      "67.40%      9\n",
      "56.10%      9\n",
      "81.70%      9\n",
      "97.20%      9\n",
      "68.60%      9\n",
      "93.80%      9\n",
      "70.30%      9\n",
      "59.90%      9\n",
      "56.70%      9\n",
      "74.50%      9\n",
      "60%         9\n",
      "64.50%      9\n",
      "51.10%      9\n",
      "94.40%      9\n",
      "74.70%      9\n",
      "86.20%      9\n",
      "38.10%      9\n",
      "70.10%      9\n",
      "76.80%      9\n",
      "73.70%      9\n",
      "58.20%      9\n",
      "49.60%      9\n",
      "31.10%      9\n",
      "92.40%      9\n",
      "39.30%      9\n",
      "45.20%      9\n",
      "82.70%      9\n",
      "80.90%      9\n",
      "61.90%      9\n",
      "84.50%      9\n",
      "72.30%      9\n",
      "65.50%      9\n",
      "43.30%      9\n",
      "51.60%      9\n",
      "83.20%      9\n",
      "74.90%      9\n",
      "57.50%      9\n",
      "40.40%      9\n",
      "54.10%      9\n",
      "87.70%      9\n",
      "87.80%      9\n",
      "40.10%      8\n",
      "46.40%      8\n",
      "54.20%      8\n",
      "54.30%      8\n",
      "78.10%      8\n",
      "82%         8\n",
      "75.60%      8\n",
      "71.50%      8\n",
      "43.90%      8\n",
      "50%         8\n",
      "46.70%      8\n",
      "49.50%      8\n",
      "81%         8\n",
      "84.60%      8\n",
      "32.30%      8\n",
      "0.40%       8\n",
      "67.30%      8\n",
      "98.30%      8\n",
      "81.10%      8\n",
      "91%         8\n",
      "93.30%      8\n",
      "35.10%      8\n",
      "31.20%      8\n",
      "71.20%      8\n",
      "38.60%      8\n",
      "53.40%      8\n",
      "54.70%      8\n",
      "79.20%      8\n",
      "90%         8\n",
      "55.20%      8\n",
      "80.80%      8\n",
      "61.50%      8\n",
      "90.70%      8\n",
      "62.60%      8\n",
      "79.60%      8\n",
      "52.20%      8\n",
      "97.70%      8\n",
      "46.80%      8\n",
      "77%         8\n",
      "49.30%      8\n",
      "88.60%      8\n",
      "59.20%      8\n",
      "51.50%      8\n",
      "85.80%      8\n",
      "92.70%      8\n",
      "30.60%      8\n",
      "44.20%      8\n",
      "44.90%      8\n",
      "74.10%      8\n",
      "90.40%      8\n",
      "25.50%      8\n",
      "84.10%      8\n",
      "84%         8\n",
      "34.30%      8\n",
      "87%         8\n",
      "67.20%      8\n",
      "92.20%      8\n",
      "26%         8\n",
      "35.20%      8\n",
      "43.10%      8\n",
      "33.60%      8\n",
      "57.80%      8\n",
      "19.40%      8\n",
      "47.90%      8\n",
      "39%         8\n",
      "47.70%      8\n",
      "28.90%      8\n",
      "78%         8\n",
      "63%         8\n",
      "48.70%      8\n",
      "72.20%      8\n",
      "51.70%      8\n",
      "68.40%      8\n",
      "72.90%      8\n",
      "96.60%      8\n",
      "33.30%      8\n",
      "98.60%      8\n",
      "86.10%      8\n",
      "38.90%      8\n",
      "73.50%      8\n",
      "68.10%      8\n",
      "73.60%      8\n",
      "79.70%      8\n",
      "69.50%      7\n",
      "86.70%      7\n",
      "92.60%      7\n",
      "78.80%      7\n",
      "60.90%      7\n",
      "62.30%      7\n",
      "32.60%      7\n",
      "27.70%      7\n",
      "66%         7\n",
      "50.70%      7\n",
      "89.80%      7\n",
      "68.20%      7\n",
      "75.40%      7\n",
      "61.30%      7\n",
      "39.50%      7\n",
      "83.70%      7\n",
      "42.60%      7\n",
      "62.20%      7\n",
      "65.20%      7\n",
      "67.60%      7\n",
      "75.90%      7\n",
      "97.10%      7\n",
      "59%         7\n",
      "66.10%      7\n",
      "55.70%      7\n",
      "72.60%      7\n",
      "54%         7\n",
      "29.60%      7\n",
      "97.40%      7\n",
      "72.80%      7\n",
      "94.50%      7\n",
      "56.40%      7\n",
      "87.40%      7\n",
      "44.60%      7\n",
      "49.80%      7\n",
      "89.30%      7\n",
      "81.50%      7\n",
      "79.90%      7\n",
      "85.30%      7\n",
      "56.80%      7\n",
      "58.70%      7\n",
      "69.90%      7\n",
      "83.50%      7\n",
      "64.90%      7\n",
      "71.90%      7\n",
      "65.30%      7\n",
      "96.80%      7\n",
      "53.10%      7\n",
      "96.40%      7\n",
      "58.10%      7\n",
      "72.50%      7\n",
      "57%         7\n",
      "60.80%      7\n",
      "68.30%      7\n",
      "83.40%      7\n",
      "91.70%      7\n",
      "59.40%      7\n",
      "65.70%      7\n",
      "43.40%      7\n",
      "64.40%      7\n",
      "76.60%      7\n",
      "76.40%      7\n",
      "76.90%      7\n",
      "64.10%      7\n",
      "95.50%      7\n",
      "90.90%      7\n",
      "56.50%      7\n",
      "69.40%      7\n",
      "81.90%      7\n",
      "79.50%      7\n",
      "60.20%      7\n",
      "85.50%      7\n",
      "44.10%      7\n",
      "77.40%      7\n",
      "33.40%      7\n",
      "90.50%      7\n",
      "39.20%      7\n",
      "68%         7\n",
      "83.30%      7\n",
      "83.90%      7\n",
      "63.40%      7\n",
      "66.20%      7\n",
      "47.60%      7\n",
      "84.20%      7\n",
      "74.80%      7\n",
      "50.40%      7\n",
      "80.40%      7\n",
      "80.70%      7\n",
      "94.10%      7\n",
      "71.10%      6\n",
      "71.60%      6\n",
      "56.30%      6\n",
      "44.30%      6\n",
      "62.10%      6\n",
      "0.10%       6\n",
      "79.40%      6\n",
      "70.40%      6\n",
      "25.60%      6\n",
      "67.90%      6\n",
      "43.70%      6\n",
      "91.80%      6\n",
      "91.20%      6\n",
      "27.40%      6\n",
      "45.80%      6\n",
      "53.80%      6\n",
      "97.60%      6\n",
      "99.50%      6\n",
      "93.10%      6\n",
      "7.20%       6\n",
      "57.30%      6\n",
      "23%         6\n",
      "24.90%      6\n",
      "80%         6\n",
      "49.20%      6\n",
      "23.90%      6\n",
      "85%         6\n",
      "33.90%      6\n",
      "82.30%      6\n",
      "28.70%      6\n",
      "91.30%      6\n",
      "36.90%      6\n",
      "30.20%      6\n",
      "15.10%      6\n",
      "53.50%      6\n",
      "29.50%      6\n",
      "81.40%      6\n",
      "51%         6\n",
      "39.10%      6\n",
      "77.80%      6\n",
      "55.80%      6\n",
      "64.30%      6\n",
      "41.10%      6\n",
      "34.20%      6\n",
      "24.50%      6\n",
      "73.20%      6\n",
      "34%         6\n",
      "51.80%      6\n",
      "84.30%      6\n",
      "53.30%      6\n",
      "61%         6\n",
      "69.60%      6\n",
      "84.80%      6\n",
      "71.30%      6\n",
      "88.50%      6\n",
      "82.90%      6\n",
      "34.80%      6\n",
      "45.90%      6\n",
      "21.60%      6\n",
      "86.80%      6\n",
      "48.60%      6\n",
      "78.90%      6\n",
      "75%         6\n",
      "63.90%      6\n",
      "29.10%      6\n",
      "40.90%      6\n",
      "78.20%      6\n",
      "13.10%      6\n",
      "64.70%      6\n",
      "46.90%      6\n",
      "47.80%      6\n",
      "62.40%      6\n",
      "37.10%      6\n",
      "28.60%      6\n",
      "53%         6\n",
      "74.20%      6\n",
      "88.10%      6\n",
      "91.60%      6\n",
      "56.60%      6\n",
      "91.50%      6\n",
      "17.10%      6\n",
      "62.90%      6\n",
      "75.30%      6\n",
      "93.40%      6\n",
      "65.80%      6\n",
      "84.70%      6\n",
      "42.30%      6\n",
      "69.30%      6\n",
      "95.60%      6\n",
      "38.40%      6\n",
      "58.60%      6\n",
      "73.10%      6\n",
      "32.90%      6\n",
      "60.30%      6\n",
      "46.30%      6\n",
      "88%         6\n",
      "27%         6\n",
      "38.30%      6\n",
      "11.20%      6\n",
      "28.10%      6\n",
      "40.20%      6\n",
      "43.50%      6\n",
      "43.80%      6\n",
      "32.40%      6\n",
      "75.20%      6\n",
      "45.60%      6\n",
      "74%         6\n",
      "86.30%      6\n",
      "47.30%      6\n",
      "18.40%      6\n",
      "85.10%      6\n",
      "46%         6\n",
      "35.40%      6\n",
      "45.40%      6\n",
      "96.70%      6\n",
      "29.90%      6\n",
      "50.50%      6\n",
      "78.60%      6\n",
      "93.50%      6\n",
      "42.50%      6\n",
      "97.80%      6\n",
      "36.50%      6\n",
      "14.80%      6\n",
      "60.70%      6\n",
      "96.50%      6\n",
      "82.50%      6\n",
      "32.80%      6\n",
      "37.40%      6\n",
      "34.50%      6\n",
      "80.50%      6\n",
      "60.40%      6\n",
      "97.30%      6\n",
      "37.80%      6\n",
      "48.20%      6\n",
      "93.60%      6\n",
      "18.80%      6\n",
      "42.40%      6\n",
      "84.90%      6\n",
      "67.80%      6\n",
      "44.50%      5\n",
      "60.60%      5\n",
      "58.90%      5\n",
      "33.10%      5\n",
      "76.20%      5\n",
      "22.50%      5\n",
      "73.90%      5\n",
      "19.80%      5\n",
      "55.60%      5\n",
      "95.90%      5\n",
      "52.10%      5\n",
      "92.10%      5\n",
      "70.20%      5\n",
      "98.50%      5\n",
      "14.90%      5\n",
      "29.20%      5\n",
      "88.70%      5\n",
      "52.40%      5\n",
      "41.60%      5\n",
      "16.50%      5\n",
      "17.90%      5\n",
      "18.20%      5\n",
      "55.30%      5\n",
      "52.90%      5\n",
      "45.50%      5\n",
      "94.70%      5\n",
      "90.10%      5\n",
      "45%         5\n",
      "3.80%       5\n",
      "67.10%      5\n",
      "77.30%      5\n",
      "97%         5\n",
      "75.80%      5\n",
      "77.10%      5\n",
      "86.60%      5\n",
      "89%         5\n",
      "57.20%      5\n",
      "60.50%      5\n",
      "78.30%      5\n",
      "5.30%       5\n",
      "64.80%      5\n",
      "68.70%      5\n",
      "42.70%      5\n",
      "23.80%      5\n",
      "31.30%      5\n",
      "81.30%      5\n",
      "27.80%      5\n",
      "30.80%      5\n",
      "24.30%      5\n",
      "2.30%       5\n",
      "92.30%      5\n",
      "11.50%      5\n",
      "20.50%      5\n",
      "18.70%      5\n",
      "35.30%      5\n",
      "61.40%      5\n",
      "47%         5\n",
      "80.10%      5\n",
      "73%         5\n",
      "89.60%      5\n",
      "56%         5\n",
      "27.90%      5\n",
      "30.70%      5\n",
      "31.60%      5\n",
      "18.60%      5\n",
      "99.40%      5\n",
      "81.80%      5\n",
      "82.40%      5\n",
      "79%         5\n",
      "13.90%      5\n",
      "59.70%      5\n",
      "54.40%      5\n",
      "41.50%      5\n",
      "58.40%      5\n",
      "63.20%      5\n",
      "26.60%      5\n",
      "28.80%      5\n",
      "33.50%      5\n",
      "92%         5\n",
      "83.80%      5\n",
      "77.70%      5\n",
      "28.50%      5\n",
      "92.80%      5\n",
      "51.90%      5\n",
      "19.30%      5\n",
      "2.40%       5\n",
      "98.80%      5\n",
      "14.70%      5\n",
      "88.20%      5\n",
      "74.30%      5\n",
      "0.70%       5\n",
      "12.80%      5\n",
      "94.30%      5\n",
      "86.40%      5\n",
      "4.50%       5\n",
      "53.90%      5\n",
      "42.80%      5\n",
      "30.90%      5\n",
      "40.60%      5\n",
      "10.70%      5\n",
      "4.80%       5\n",
      "21.20%      5\n",
      "41.90%      5\n",
      "42.10%      5\n",
      "41.40%      5\n",
      "35.90%      5\n",
      "46.50%      5\n",
      "37.90%      5\n",
      "15.50%      5\n",
      "49.40%      5\n",
      "67%         5\n",
      "61.60%      5\n",
      "65.40%      5\n",
      "97.90%      5\n",
      "37.30%      5\n",
      "72.10%      5\n",
      "40.30%      5\n",
      "7.60%       5\n",
      "33.70%      5\n",
      "43.20%      5\n",
      "89.20%      5\n",
      "65.10%      5\n",
      "26.10%      5\n",
      "39.40%      5\n",
      "67.50%      5\n",
      "99.80%      5\n",
      "77.50%      5\n",
      "21%         5\n",
      "15.30%      5\n",
      "26.90%      5\n",
      "77.20%      5\n",
      "10.50%      5\n",
      "21.10%      5\n",
      "66.90%      5\n",
      "22.90%      4\n",
      "58.30%      4\n",
      "4%          4\n",
      "69%         4\n",
      "16.90%      4\n",
      "88.40%      4\n",
      "50.20%      4\n",
      "37.70%      4\n",
      "48.10%      4\n",
      "25.30%      4\n",
      "88.30%      4\n",
      "71%         4\n",
      "70.60%      4\n",
      "16.30%      4\n",
      "26.80%      4\n",
      "48.30%      4\n",
      "58.50%      4\n",
      "93.90%      4\n",
      "49.70%      4\n",
      "45.70%      4\n",
      "19.70%      4\n",
      "22.20%      4\n",
      "41.30%      4\n",
      "34.90%      4\n",
      "22.10%      4\n",
      "70.70%      4\n",
      "22.30%      4\n",
      "56.90%      4\n",
      "63.80%      4\n",
      "47.20%      4\n",
      "78.40%      4\n",
      "62%         4\n",
      "59.10%      4\n",
      "10%         4\n",
      "88.80%      4\n",
      "17.50%      4\n",
      "16.10%      4\n",
      "83%         4\n",
      "99.60%      4\n",
      "24.80%      4\n",
      "2%          4\n",
      "70.50%      4\n",
      "21.30%      4\n",
      "24.10%      4\n",
      "51.30%      4\n",
      "47.10%      4\n",
      "76.70%      4\n",
      "23.70%      4\n",
      "53.70%      4\n",
      "9%          4\n",
      "11.70%      4\n",
      "15.20%      4\n",
      "35.60%      4\n",
      "29.40%      4\n",
      "41.70%      4\n",
      "46.10%      4\n",
      "63.10%      4\n",
      "85.60%      4\n",
      "17.40%      4\n",
      "13.40%      4\n",
      "38.70%      4\n",
      "23.60%      4\n",
      "50.60%      4\n",
      "28.40%      4\n",
      "65.90%      4\n",
      "94%         4\n",
      "76.10%      4\n",
      "49.10%      4\n",
      "75.10%      4\n",
      "46.60%      4\n",
      "41.80%      4\n",
      "24.20%      4\n",
      "93.70%      4\n",
      "6.60%       4\n",
      "17.70%      4\n",
      "27.50%      4\n",
      "31.80%      4\n",
      "1%          4\n",
      "59.80%      4\n",
      "11.80%      4\n",
      "35.80%      4\n",
      "82.80%      4\n",
      "4.70%       4\n",
      "95.40%      4\n",
      "98.10%      4\n",
      "52.30%      4\n",
      "1.20%       4\n",
      "43.60%      4\n",
      "29.30%      4\n",
      "32.20%      4\n",
      "76.30%      4\n",
      "14.10%      4\n",
      "45.30%      4\n",
      "24.70%      4\n",
      "53.60%      4\n",
      "1.30%       4\n",
      "7.40%       4\n",
      "69.10%      4\n",
      "36.70%      4\n",
      "58.80%      4\n",
      "3.10%       4\n",
      "68.90%      4\n",
      "25.80%      4\n",
      "34.70%      4\n",
      "21.50%      4\n",
      "82.10%      4\n",
      "24.60%      4\n",
      "99.20%      4\n",
      "32.70%      4\n",
      "7.50%       4\n",
      "36.30%      4\n",
      "15.60%      4\n",
      "52.50%      4\n",
      "63.30%      4\n",
      "83.10%      4\n",
      "49%         4\n",
      "37%         4\n",
      "37.20%      4\n",
      "70%         4\n",
      "53.20%      4\n",
      "22%         4\n",
      "29%         4\n",
      "78.70%      4\n",
      "13.20%      4\n",
      "11.60%      4\n",
      "98.90%      4\n",
      "7.30%       4\n",
      "5.60%       4\n",
      "55%         4\n",
      "81.20%      4\n",
      "40%         4\n",
      "96.30%      4\n",
      "47.50%      4\n",
      "15.90%      4\n",
      "33.20%      4\n",
      "52.80%      4\n",
      "57.60%      4\n",
      "88.90%      4\n",
      "8.30%       4\n",
      "30.10%      4\n",
      "39.60%      4\n",
      "71.80%      4\n",
      "0.50%       3\n",
      "9.90%       3\n",
      "40.70%      3\n",
      "44.80%      3\n",
      "10.10%      3\n",
      "61.80%      3\n",
      "36.20%      3\n",
      "84.40%      3\n",
      "9.30%       3\n",
      "29.70%      3\n",
      "98.20%      3\n",
      "13.60%      3\n",
      "51.20%      3\n",
      "38%         3\n",
      "6.10%       3\n",
      "87.50%      3\n",
      "20.20%      3\n",
      "27.10%      3\n",
      "23.30%      3\n",
      "29.80%      3\n",
      "17.30%      3\n",
      "80.20%      3\n",
      "39.90%      3\n",
      "23.50%      3\n",
      "4.40%       3\n",
      "21.80%      3\n",
      "2.60%       3\n",
      "9.20%       3\n",
      "5.10%       3\n",
      "48.80%      3\n",
      "65%         3\n",
      "50.80%      3\n",
      "90.20%      3\n",
      "23.10%      3\n",
      "3.90%       3\n",
      "52.60%      3\n",
      "95.80%      3\n",
      "28.20%      3\n",
      "21.90%      3\n",
      "11.10%      3\n",
      "1.10%       3\n",
      "8.80%       3\n",
      "50.90%      3\n",
      "39.70%      3\n",
      "57.10%      3\n",
      "76.50%      3\n",
      "12.70%      3\n",
      "25%         3\n",
      "26.70%      3\n",
      "8.10%       3\n",
      "3.60%       3\n",
      "39.80%      3\n",
      "74.60%      3\n",
      "19%         3\n",
      "12.90%      3\n",
      "79.30%      3\n",
      "18.30%      3\n",
      "17%         3\n",
      "64%         3\n",
      "50.10%      3\n",
      "86.90%      3\n",
      "2.90%       3\n",
      "94.80%      3\n",
      "69.20%      3\n",
      "5.80%       3\n",
      "27.30%      3\n",
      "49.90%      3\n",
      "42.20%      3\n",
      "95.10%      3\n",
      "55.90%      3\n",
      "25.20%      3\n",
      "14.60%      3\n",
      "31%         3\n",
      "5.90%       3\n",
      "92.50%      3\n",
      "2.20%       3\n",
      "34.10%      3\n",
      "21.70%      3\n",
      "20%         3\n",
      "79.10%      3\n",
      "6.40%       3\n",
      "10.30%      3\n",
      "20.30%      3\n",
      "30.50%      3\n",
      "48.50%      3\n",
      "36.40%      3\n",
      "31.50%      3\n",
      "14%         3\n",
      "24%         3\n",
      "2.50%       3\n",
      "67.70%      3\n",
      "3.50%       3\n",
      "52.70%      3\n",
      "27.60%      3\n",
      "85.20%      3\n",
      "63.60%      3\n",
      "71.40%      3\n",
      "62.50%      3\n",
      "73.30%      3\n",
      "89.10%      3\n",
      "17.80%      3\n",
      "72%         3\n",
      "56.20%      3\n",
      "20.90%      3\n",
      "66.50%      3\n",
      "6.50%       3\n",
      "63.50%      3\n",
      "38.80%      3\n",
      "1.80%       3\n",
      "9.70%       3\n",
      "90.80%      3\n",
      "58%         3\n",
      "3.40%       3\n",
      "44.40%      3\n",
      "11.30%      3\n",
      "0.80%       3\n",
      "14.20%      3\n",
      "25.10%      3\n",
      "12.30%      3\n",
      "37.50%      3\n",
      "13.80%      3\n",
      "8.90%       3\n",
      "20.60%      3\n",
      "28%         3\n",
      "19.60%      3\n",
      "66.40%      3\n",
      "15.80%      3\n",
      "15.70%      3\n",
      "62.70%      3\n",
      "86.50%      3\n",
      "83.60%      3\n",
      "7.10%       3\n",
      "54.90%      3\n",
      "22.60%      2\n",
      "13%         2\n",
      "17.60%      2\n",
      "36.10%      2\n",
      "85.90%      2\n",
      "22.80%      2\n",
      "26.20%      2\n",
      "55.40%      2\n",
      "16%         2\n",
      "0.60%       2\n",
      "48.40%      2\n",
      "92.90%      2\n",
      "31.40%      2\n",
      "4.60%       2\n",
      "43%         2\n",
      "8%          2\n",
      "44%         2\n",
      "18.90%      2\n",
      "23.20%      2\n",
      "25.90%      2\n",
      "12%         2\n",
      "26.40%      2\n",
      "6%          2\n",
      "28.30%      2\n",
      "20.70%      2\n",
      "86%         2\n",
      "98%         2\n",
      "20.10%      2\n",
      "14.40%      2\n",
      "19.10%      2\n",
      "75.70%      2\n",
      "13.50%      2\n",
      "99.10%      2\n",
      "3.20%       2\n",
      "16.70%      2\n",
      "12.40%      2\n",
      "7%          2\n",
      "9.80%       2\n",
      "87.90%      2\n",
      "23.40%      2\n",
      "25.70%      2\n",
      "18.10%      2\n",
      "5.40%       2\n",
      "3%          2\n",
      "0.90%       2\n",
      "27.20%      2\n",
      "1.70%       2\n",
      "70.90%      2\n",
      "36%         2\n",
      "40.80%      2\n",
      "5%          2\n",
      "54.60%      2\n",
      "69.80%      2\n",
      "11.40%      2\n",
      "8.40%       2\n",
      "54.50%      2\n",
      "85.40%      2\n",
      "96.90%      2\n",
      "1.40%       2\n",
      "5.70%       2\n",
      "31.70%      2\n",
      "40.50%      2\n",
      "11.90%      2\n",
      "37.60%      2\n",
      "15%         2\n",
      "19.20%      2\n",
      "26.30%      2\n",
      "14.30%      2\n",
      "21.40%      2\n",
      "61.70%      2\n",
      "19.50%      2\n",
      "69.70%      2\n",
      "30.40%      2\n",
      "82.20%      2\n",
      "5.20%       2\n",
      "12.20%      2\n",
      "32.10%      2\n",
      "8.20%       2\n",
      "38.20%      2\n",
      "87.10%      2\n",
      "61.20%      2\n",
      "91.40%      2\n",
      "19.90%      2\n",
      "61.10%      2\n",
      "18%         2\n",
      "34.60%      2\n",
      "22.40%      1\n",
      "44.70%      1\n",
      "8.70%       1\n",
      "30%         1\n",
      "13.30%      1\n",
      "32.04%      1\n",
      "0.12%       1\n",
      "91.90%      1\n",
      "8.46%       1\n",
      "16.40%      1\n",
      "9.50%       1\n",
      "36.80%      1\n",
      "8.60%       1\n",
      "6.90%       1\n",
      "17.20%      1\n",
      "6.20%       1\n",
      "16.20%      1\n",
      "20.80%      1\n",
      "16.80%      1\n",
      "32.50%      1\n",
      "16.60%      1\n",
      "95.70%      1\n",
      "2.10%       1\n",
      "54.22%      1\n",
      "0.30%       1\n",
      "87.30%      1\n",
      "4.30%       1\n",
      "7.90%       1\n",
      "30.30%      1\n",
      "10.80%      1\n",
      "24.89%      1\n",
      "24.40%      1\n",
      "7.80%       1\n",
      "1.88%       1\n",
      "1.60%       1\n",
      "4.90%       1\n",
      "20.40%      1\n",
      "6.30%       1\n",
      "15.40%      1\n",
      "7.70%       1\n",
      "49.63%      1\n",
      "38.50%      1\n",
      "9.60%       1\n",
      "9.40%       1\n",
      "31.90%      1\n",
      "4.20%       1\n",
      "5.50%       1\n",
      "12.50%      1\n",
      "10.90%      1\n",
      "89.70%      1\n",
      "24.63%      1\n",
      "4.10%       1\n",
      "33.80%      1\n",
      "99.70%      1\n",
      "3.70%       1\n",
      "29.77%      1\n",
      "2.80%       1\n",
      "1.90%       1\n",
      "8.50%       1\n",
      "96.20%      1\n",
      "13.70%      1\n",
      "10.40%      1\n",
      "12.60%      1\n",
      "42.90%      1\n",
      "51.40%      1\n",
      "3.30%       1\n",
      "25.40%      1\n",
      "77.63%      1\n",
      "35.50%      1\n",
      "Name: revol_util, dtype: int64\n"
     ]
    }
   ],
   "source": [
    "#check the type of column,nullvalues and mode and outlier\n",
    "print(f'Data types of revol_util: {Cleaned_data.revol_util.dtypes}')\n",
    "print(f'nullvalues in revol_util: {Cleaned_data.revol_util.isnull().sum()}')\n",
    "print(f'Statistics of column revol_util:\\n {Cleaned_data.revol_util.describe()}')\n",
    "print(f'Value count of column revol_util: \\n{ Cleaned_data[Cleaned_data.Defaulters==True].revol_util.value_counts()}')"
   ]
  },
  {
   "cell_type": "code",
   "execution_count": 80,
   "id": "4b73b199",
   "metadata": {},
   "outputs": [],
   "source": [
    "# #Data has null values so removing the null values and % symbol. ALso storing the data in new col edit_revol_util\n",
    "# # creating new variable temp, so that other data are not changed\n",
    "# temp=Cleaned_data.copy()\n",
    "# temp.drop(temp[temp['revol_util'].isnull()].index,inplace=True)\n",
    "# temp.revol_util.isnull().sum()\n",
    "# temp['edit_revol_util']=temp.revol_util.apply(Func_process_revol_util)\n",
    "# # Cleaned_Data['edit_revol_util']=Cleaned_data.revol_util.apply(Func_process_revol_util)\n",
    "# print(temp['edit_revol_util'])"
   ]
  },
  {
   "cell_type": "code",
   "execution_count": 81,
   "id": "fb541d25",
   "metadata": {},
   "outputs": [],
   "source": [
    "Cleaned_data.to_csv('cleaned_loan.csv')"
   ]
  },
  {
   "cell_type": "code",
   "execution_count": null,
   "id": "ed41e196",
   "metadata": {},
   "outputs": [],
   "source": []
  },
  {
   "cell_type": "code",
   "execution_count": null,
   "id": "34e8493e",
   "metadata": {},
   "outputs": [],
   "source": []
  }
 ],
 "metadata": {
  "kernelspec": {
   "display_name": "Python 3",
   "language": "python",
   "name": "python3"
  },
  "language_info": {
   "codemirror_mode": {
    "name": "ipython",
    "version": 3
   },
   "file_extension": ".py",
   "mimetype": "text/x-python",
   "name": "python",
   "nbconvert_exporter": "python",
   "pygments_lexer": "ipython3",
   "version": "3.8.8"
  }
 },
 "nbformat": 4,
 "nbformat_minor": 5
}
